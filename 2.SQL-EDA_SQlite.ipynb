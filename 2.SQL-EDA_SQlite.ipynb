{
 "cells": [
  {
   "cell_type": "markdown",
   "metadata": {},
   "source": [
    "<center>\n",
    "<img src=\"https://cf-courses-data.s3.us.cloud-object-storage.appdomain.cloud/IBMDeveloperSkillsNetwork-RP0321EN-SkillsNetwork/labs/module_1/images/SN_web_lightmode.png\" width=\"300\"> \n",
    "</center>\n",
    "\n",
    "# Assignment: Exploratory Data Analysis with SQL\n",
    "Estimated time needed: 60 minutes\n",
    "\n",
    "\n",
    "# Introduction\n",
    "Using this R notebook you will perform exploratory data analysis using SQL queries with the RSQLite R package. You will be graded on the accuracy of your results as well as the content of your SQL queries.\n"
   ]
  },
  {
   "cell_type": "markdown",
   "metadata": {},
   "source": [
    "### Establish your SQlIte connection\n",
    "Load the 'RSQLite' library, and use the 'dbConnect( )' function as you did in the previous lab to establish the connection to your SQLite database.  \n",
    "You are now ready to start running SQL queries using the RSQLite library as you did in Course 3.\n"
   ]
  },
  {
   "cell_type": "code",
   "execution_count": 4,
   "metadata": {
    "tags": []
   },
   "outputs": [
    {
     "name": "stderr",
     "output_type": "stream",
     "text": [
      "Updating HTML index of packages in '.Library'\n",
      "Making 'packages.html' ... done\n"
     ]
    }
   ],
   "source": [
    "# Reinstall rlang and RSQLite\n",
    "install.packages(\"RSQLite\")\n"
   ]
  },
  {
   "cell_type": "code",
   "execution_count": 1,
   "metadata": {
    "tags": []
   },
   "outputs": [
    {
     "name": "stderr",
     "output_type": "stream",
     "text": [
      "Warning message:\n",
      "“replacing previous import ‘lifecycle::last_warnings’ by ‘rlang::last_warnings’ when loading ‘tibble’”Warning message:\n",
      "“replacing previous import ‘ellipsis::check_dots_unnamed’ by ‘rlang::check_dots_unnamed’ when loading ‘tibble’”Warning message:\n",
      "“replacing previous import ‘ellipsis::check_dots_used’ by ‘rlang::check_dots_used’ when loading ‘tibble’”Warning message:\n",
      "“replacing previous import ‘ellipsis::check_dots_empty’ by ‘rlang::check_dots_empty’ when loading ‘tibble’”\n",
      "Attaching package: ‘dplyr’\n",
      "\n",
      "The following objects are masked from ‘package:stats’:\n",
      "\n",
      "    filter, lag\n",
      "\n",
      "The following objects are masked from ‘package:base’:\n",
      "\n",
      "    intersect, setdiff, setequal, union\n",
      "\n",
      "\n",
      "Attaching package: ‘lubridate’\n",
      "\n",
      "The following objects are masked from ‘package:dplyr’:\n",
      "\n",
      "    intersect, setdiff, union\n",
      "\n",
      "The following objects are masked from ‘package:base’:\n",
      "\n",
      "    date, intersect, setdiff, union\n",
      "\n"
     ]
    }
   ],
   "source": [
    "# provide your solution here\n",
    "library(\"RSQLite\")\n",
    "library(\"dplyr\")\n",
    "library(\"lubridate\") "
   ]
  },
  {
   "cell_type": "code",
   "execution_count": 2,
   "metadata": {
    "tags": []
   },
   "outputs": [
    {
     "data": {
      "text/plain": [
       "<SQLiteConnection>\n",
       "  Path: /resources/labs/FinalRSQLite/TestDB.sqlite\n",
       "  Extensions: TRUE"
      ]
     },
     "metadata": {},
     "output_type": "display_data"
    }
   ],
   "source": [
    "con <- dbConnect(RSQLite::SQLite(),\"TestDB.sqlite\")\n",
    "con"
   ]
  },
  {
   "cell_type": "markdown",
   "metadata": {},
   "source": [
    "Download the following csv files:\n",
    "\n",
    "*   [WORLD_CITIES](https://cf-courses-data.s3.us.cloud-object-storage.appdomain.cloud/IBMDeveloperSkillsNetwork-RP0321EN-SkillsNetwork/labs/datasets/world_cities.csv)\n",
    "\n",
    "*   [BIKE_SHARING_SYSTEMS](https://cf-courses-data.s3.us.cloud-object-storage.appdomain.cloud/IBMDeveloperSkillsNetwork-RP0321EN-SkillsNetwork/labs/datasets/bike_sharing_systems.csv)\n",
    "\n",
    "*   [CITIES_WEATHER_FORECAST](https://cf-courses-data.s3.us.cloud-object-storage.appdomain.cloud/IBMDeveloperSkillsNetwork-RP0321EN-SkillsNetwork/labs/datasets/cities_weather_forecast.csv)\n",
    "\n",
    "*   [SEOUL_BIKE_SHARING](https://cf-courses-data.s3.us.cloud-object-storage.appdomain.cloud/IBMDeveloperSkillsNetwork-RP0321EN-SkillsNetwork/labs/datasets/seoul_bike_sharing.csv)\n",
    "\n",
    "and load the csv's  into 4 tables as mentioned below\n",
    "* SEOUL_BIKE_SHARING\n",
    "\n",
    "* CITIES_WEATHER_FORECAST\n",
    "\n",
    "* BIKE_SHARING_SYSTEMS \n",
    "\n",
    "*  WORLD_CITIES\n",
    "\n",
    "> Hint : Use the read_csv() function and dbWriteTable() functions\n"
   ]
  },
  {
   "cell_type": "markdown",
   "metadata": {},
   "source": [
    "\n",
    "## Task 1 - Record Count\n",
    "#### Determine how many records are in the seoul_bike_sharing dataset.\n"
   ]
  },
  {
   "cell_type": "markdown",
   "metadata": {},
   "source": [
    "### Solution 1\n"
   ]
  },
  {
   "cell_type": "code",
   "execution_count": 3,
   "metadata": {
    "tags": []
   },
   "outputs": [],
   "source": [
    "# provide your solution here\n",
    "#read csv file\n",
    "seoul_bike_sharing <- \"https://cf-courses-data.s3.us.cloud-object-storage.appdomain.cloud/IBMDeveloperSkillsNetwork-RP0321EN-SkillsNetwork/labs/datasets/seoul_bike_sharing.csv\"  \n",
    "seoul_bike_sharing <- read.csv(seoul_bike_sharing)\n",
    "\n",
    "cities_weather_forecast <- \"https://cf-courses-data.s3.us.cloud-object-storage.appdomain.cloud/IBMDeveloperSkillsNetwork-RP0321EN-SkillsNetwork/labs/datasets/cities_weather_forecast.csv\"  \n",
    "cities_weather_forecast <- read.csv(cities_weather_forecast)\n",
    "\n",
    "bike_sharing_systems <- \"https://cf-courses-data.s3.us.cloud-object-storage.appdomain.cloud/IBMDeveloperSkillsNetwork-RP0321EN-SkillsNetwork/labs/datasets/bike_sharing_systems.csv\"  \n",
    "bike_sharing_systems <- read.csv(bike_sharing_systems)\n",
    "\n",
    "world_cities <- \"https://cf-courses-data.s3.us.cloud-object-storage.appdomain.cloud/IBMDeveloperSkillsNetwork-RP0321EN-SkillsNetwork/labs/datasets/world_cities.csv\"  \n",
    "world_cities <- read.csv(world_cities)"
   ]
  },
  {
   "cell_type": "code",
   "execution_count": 4,
   "metadata": {
    "tags": []
   },
   "outputs": [],
   "source": [
    "#write csv to con\n",
    "list_csv <- list(seoul_bike_sharing,cities_weather_forecast,bike_sharing_systems,world_cities)\n",
    "for (item in list_csv){\n",
    "    dbWriteTable(con, deparse(substitute(item)),item, overwrite = TRUE)\n",
    "    dbReadTable(con, deparse(substitute(item))) \n",
    "}"
   ]
  },
  {
   "cell_type": "code",
   "execution_count": 5,
   "metadata": {
    "tags": []
   },
   "outputs": [
    {
     "data": {
      "text/html": [
       "8465"
      ],
      "text/latex": [
       "8465"
      ],
      "text/markdown": [
       "8465"
      ],
      "text/plain": [
       "[1] 8465"
      ]
     },
     "metadata": {},
     "output_type": "display_data"
    }
   ],
   "source": [
    "#records are in the seoul_bike_sharing dataset\n",
    "record_seoul <- nrow(seoul_bike_sharing)\n",
    "record_seoul"
   ]
  },
  {
   "cell_type": "markdown",
   "metadata": {},
   "source": [
    "## Task 2 - Operational Hours\n",
    "#### Determine how many hours had non-zero rented bike count.\n"
   ]
  },
  {
   "cell_type": "markdown",
   "metadata": {},
   "source": [
    "### Solution 2\n"
   ]
  },
  {
   "cell_type": "code",
   "execution_count": 19,
   "metadata": {
    "tags": []
   },
   "outputs": [
    {
     "data": {
      "text/html": [
       "<table>\n",
       "<caption>A data.frame: 6 × 14</caption>\n",
       "<thead>\n",
       "\t<tr><th></th><th scope=col>DATE</th><th scope=col>RENTED_BIKE_COUNT</th><th scope=col>HOUR</th><th scope=col>TEMPERATURE</th><th scope=col>HUMIDITY</th><th scope=col>WIND_SPEED</th><th scope=col>VISIBILITY</th><th scope=col>DEW_POINT_TEMPERATURE</th><th scope=col>SOLAR_RADIATION</th><th scope=col>RAINFALL</th><th scope=col>SNOWFALL</th><th scope=col>SEASONS</th><th scope=col>HOLIDAY</th><th scope=col>FUNCTIONING_DAY</th></tr>\n",
       "\t<tr><th></th><th scope=col>&lt;fct&gt;</th><th scope=col>&lt;int&gt;</th><th scope=col>&lt;int&gt;</th><th scope=col>&lt;dbl&gt;</th><th scope=col>&lt;int&gt;</th><th scope=col>&lt;dbl&gt;</th><th scope=col>&lt;int&gt;</th><th scope=col>&lt;dbl&gt;</th><th scope=col>&lt;dbl&gt;</th><th scope=col>&lt;dbl&gt;</th><th scope=col>&lt;dbl&gt;</th><th scope=col>&lt;fct&gt;</th><th scope=col>&lt;fct&gt;</th><th scope=col>&lt;fct&gt;</th></tr>\n",
       "</thead>\n",
       "<tbody>\n",
       "\t<tr><th scope=row>1</th><td>01/12/2017</td><td>254</td><td>0</td><td>-5.2</td><td>37</td><td>2.2</td><td>2000</td><td>-17.6</td><td>0</td><td>0</td><td>0</td><td>Winter</td><td>No Holiday</td><td>Yes</td></tr>\n",
       "\t<tr><th scope=row>2</th><td>01/12/2017</td><td>204</td><td>1</td><td>-5.5</td><td>38</td><td>0.8</td><td>2000</td><td>-17.6</td><td>0</td><td>0</td><td>0</td><td>Winter</td><td>No Holiday</td><td>Yes</td></tr>\n",
       "\t<tr><th scope=row>3</th><td>01/12/2017</td><td>173</td><td>2</td><td>-6.0</td><td>39</td><td>1.0</td><td>2000</td><td>-17.7</td><td>0</td><td>0</td><td>0</td><td>Winter</td><td>No Holiday</td><td>Yes</td></tr>\n",
       "\t<tr><th scope=row>4</th><td>01/12/2017</td><td>107</td><td>3</td><td>-6.2</td><td>40</td><td>0.9</td><td>2000</td><td>-17.6</td><td>0</td><td>0</td><td>0</td><td>Winter</td><td>No Holiday</td><td>Yes</td></tr>\n",
       "\t<tr><th scope=row>5</th><td>01/12/2017</td><td> 78</td><td>4</td><td>-6.0</td><td>36</td><td>2.3</td><td>2000</td><td>-18.6</td><td>0</td><td>0</td><td>0</td><td>Winter</td><td>No Holiday</td><td>Yes</td></tr>\n",
       "\t<tr><th scope=row>6</th><td>01/12/2017</td><td>100</td><td>5</td><td>-6.4</td><td>37</td><td>1.5</td><td>2000</td><td>-18.7</td><td>0</td><td>0</td><td>0</td><td>Winter</td><td>No Holiday</td><td>Yes</td></tr>\n",
       "</tbody>\n",
       "</table>\n"
      ],
      "text/latex": [
       "A data.frame: 6 × 14\n",
       "\\begin{tabular}{r|llllllllllllll}\n",
       "  & DATE & RENTED\\_BIKE\\_COUNT & HOUR & TEMPERATURE & HUMIDITY & WIND\\_SPEED & VISIBILITY & DEW\\_POINT\\_TEMPERATURE & SOLAR\\_RADIATION & RAINFALL & SNOWFALL & SEASONS & HOLIDAY & FUNCTIONING\\_DAY\\\\\n",
       "  & <fct> & <int> & <int> & <dbl> & <int> & <dbl> & <int> & <dbl> & <dbl> & <dbl> & <dbl> & <fct> & <fct> & <fct>\\\\\n",
       "\\hline\n",
       "\t1 & 01/12/2017 & 254 & 0 & -5.2 & 37 & 2.2 & 2000 & -17.6 & 0 & 0 & 0 & Winter & No Holiday & Yes\\\\\n",
       "\t2 & 01/12/2017 & 204 & 1 & -5.5 & 38 & 0.8 & 2000 & -17.6 & 0 & 0 & 0 & Winter & No Holiday & Yes\\\\\n",
       "\t3 & 01/12/2017 & 173 & 2 & -6.0 & 39 & 1.0 & 2000 & -17.7 & 0 & 0 & 0 & Winter & No Holiday & Yes\\\\\n",
       "\t4 & 01/12/2017 & 107 & 3 & -6.2 & 40 & 0.9 & 2000 & -17.6 & 0 & 0 & 0 & Winter & No Holiday & Yes\\\\\n",
       "\t5 & 01/12/2017 &  78 & 4 & -6.0 & 36 & 2.3 & 2000 & -18.6 & 0 & 0 & 0 & Winter & No Holiday & Yes\\\\\n",
       "\t6 & 01/12/2017 & 100 & 5 & -6.4 & 37 & 1.5 & 2000 & -18.7 & 0 & 0 & 0 & Winter & No Holiday & Yes\\\\\n",
       "\\end{tabular}\n"
      ],
      "text/markdown": [
       "\n",
       "A data.frame: 6 × 14\n",
       "\n",
       "| <!--/--> | DATE &lt;fct&gt; | RENTED_BIKE_COUNT &lt;int&gt; | HOUR &lt;int&gt; | TEMPERATURE &lt;dbl&gt; | HUMIDITY &lt;int&gt; | WIND_SPEED &lt;dbl&gt; | VISIBILITY &lt;int&gt; | DEW_POINT_TEMPERATURE &lt;dbl&gt; | SOLAR_RADIATION &lt;dbl&gt; | RAINFALL &lt;dbl&gt; | SNOWFALL &lt;dbl&gt; | SEASONS &lt;fct&gt; | HOLIDAY &lt;fct&gt; | FUNCTIONING_DAY &lt;fct&gt; |\n",
       "|---|---|---|---|---|---|---|---|---|---|---|---|---|---|---|\n",
       "| 1 | 01/12/2017 | 254 | 0 | -5.2 | 37 | 2.2 | 2000 | -17.6 | 0 | 0 | 0 | Winter | No Holiday | Yes |\n",
       "| 2 | 01/12/2017 | 204 | 1 | -5.5 | 38 | 0.8 | 2000 | -17.6 | 0 | 0 | 0 | Winter | No Holiday | Yes |\n",
       "| 3 | 01/12/2017 | 173 | 2 | -6.0 | 39 | 1.0 | 2000 | -17.7 | 0 | 0 | 0 | Winter | No Holiday | Yes |\n",
       "| 4 | 01/12/2017 | 107 | 3 | -6.2 | 40 | 0.9 | 2000 | -17.6 | 0 | 0 | 0 | Winter | No Holiday | Yes |\n",
       "| 5 | 01/12/2017 |  78 | 4 | -6.0 | 36 | 2.3 | 2000 | -18.6 | 0 | 0 | 0 | Winter | No Holiday | Yes |\n",
       "| 6 | 01/12/2017 | 100 | 5 | -6.4 | 37 | 1.5 | 2000 | -18.7 | 0 | 0 | 0 | Winter | No Holiday | Yes |\n",
       "\n"
      ],
      "text/plain": [
       "  DATE       RENTED_BIKE_COUNT HOUR TEMPERATURE HUMIDITY WIND_SPEED VISIBILITY\n",
       "1 01/12/2017 254               0    -5.2        37       2.2        2000      \n",
       "2 01/12/2017 204               1    -5.5        38       0.8        2000      \n",
       "3 01/12/2017 173               2    -6.0        39       1.0        2000      \n",
       "4 01/12/2017 107               3    -6.2        40       0.9        2000      \n",
       "5 01/12/2017  78               4    -6.0        36       2.3        2000      \n",
       "6 01/12/2017 100               5    -6.4        37       1.5        2000      \n",
       "  DEW_POINT_TEMPERATURE SOLAR_RADIATION RAINFALL SNOWFALL SEASONS HOLIDAY   \n",
       "1 -17.6                 0               0        0        Winter  No Holiday\n",
       "2 -17.6                 0               0        0        Winter  No Holiday\n",
       "3 -17.7                 0               0        0        Winter  No Holiday\n",
       "4 -17.6                 0               0        0        Winter  No Holiday\n",
       "5 -18.6                 0               0        0        Winter  No Holiday\n",
       "6 -18.7                 0               0        0        Winter  No Holiday\n",
       "  FUNCTIONING_DAY\n",
       "1 Yes            \n",
       "2 Yes            \n",
       "3 Yes            \n",
       "4 Yes            \n",
       "5 Yes            \n",
       "6 Yes            "
      ]
     },
     "metadata": {},
     "output_type": "display_data"
    }
   ],
   "source": [
    "head(seoul_bike_sharing)"
   ]
  },
  {
   "cell_type": "code",
   "execution_count": 5,
   "metadata": {
    "tags": []
   },
   "outputs": [
    {
     "data": {
      "text/html": [
       "1"
      ],
      "text/latex": [
       "1"
      ],
      "text/markdown": [
       "1"
      ],
      "text/plain": [
       "[1] 1"
      ]
     },
     "metadata": {},
     "output_type": "display_data"
    }
   ],
   "source": [
    "# provide your solution here\n",
    "hour <- seoul_bike_sharing %>% \n",
    "    select(RENTED_BIKE_COUNT, HOUR) %>%\n",
    "    filter(HOUR > 0) \n",
    "\n",
    "hour <- sum(hour$HOUR)/sum(seoul_bike_sharing$HOUR)\n",
    "hour\n"
   ]
  },
  {
   "cell_type": "markdown",
   "metadata": {},
   "source": [
    "## Task 3 - Weather Outlook\n",
    "#### Query the the weather forecast for Seoul over the next 3 hours.\n",
    "Recall that the records in the CITIES_WEATHER_FORECAST dataset are 3 hours apart, so we just need the first record from the query.\n"
   ]
  },
  {
   "cell_type": "markdown",
   "metadata": {},
   "source": [
    "### Solution 3\n"
   ]
  },
  {
   "cell_type": "code",
   "execution_count": 75,
   "metadata": {
    "tags": []
   },
   "outputs": [
    {
     "data": {
      "text/html": [
       "<table>\n",
       "<caption>A data.frame: 1 × 12</caption>\n",
       "<thead>\n",
       "\t<tr><th></th><th scope=col>CITY</th><th scope=col>WEATHER</th><th scope=col>VISIBILITY</th><th scope=col>TEMP</th><th scope=col>TEMP_MIN</th><th scope=col>TEMP_MAX</th><th scope=col>PRESSURE</th><th scope=col>HUMIDITY</th><th scope=col>WIND_SPEED</th><th scope=col>WIND_DEG</th><th scope=col>SEASON</th><th scope=col>FORECAST_DATETIME</th></tr>\n",
       "\t<tr><th></th><th scope=col>&lt;fct&gt;</th><th scope=col>&lt;fct&gt;</th><th scope=col>&lt;int&gt;</th><th scope=col>&lt;dbl&gt;</th><th scope=col>&lt;dbl&gt;</th><th scope=col>&lt;dbl&gt;</th><th scope=col>&lt;int&gt;</th><th scope=col>&lt;int&gt;</th><th scope=col>&lt;dbl&gt;</th><th scope=col>&lt;int&gt;</th><th scope=col>&lt;fct&gt;</th><th scope=col>&lt;fct&gt;</th></tr>\n",
       "</thead>\n",
       "<tbody>\n",
       "\t<tr><th scope=row>1</th><td>Seoul</td><td>Clear</td><td>10000</td><td>12.32</td><td>10.91</td><td>12.32</td><td>1015</td><td>50</td><td>2.18</td><td>248</td><td>Spring</td><td>2021-04-16 12:00:00</td></tr>\n",
       "</tbody>\n",
       "</table>\n"
      ],
      "text/latex": [
       "A data.frame: 1 × 12\n",
       "\\begin{tabular}{r|llllllllllll}\n",
       "  & CITY & WEATHER & VISIBILITY & TEMP & TEMP\\_MIN & TEMP\\_MAX & PRESSURE & HUMIDITY & WIND\\_SPEED & WIND\\_DEG & SEASON & FORECAST\\_DATETIME\\\\\n",
       "  & <fct> & <fct> & <int> & <dbl> & <dbl> & <dbl> & <int> & <int> & <dbl> & <int> & <fct> & <fct>\\\\\n",
       "\\hline\n",
       "\t1 & Seoul & Clear & 10000 & 12.32 & 10.91 & 12.32 & 1015 & 50 & 2.18 & 248 & Spring & 2021-04-16 12:00:00\\\\\n",
       "\\end{tabular}\n"
      ],
      "text/markdown": [
       "\n",
       "A data.frame: 1 × 12\n",
       "\n",
       "| <!--/--> | CITY &lt;fct&gt; | WEATHER &lt;fct&gt; | VISIBILITY &lt;int&gt; | TEMP &lt;dbl&gt; | TEMP_MIN &lt;dbl&gt; | TEMP_MAX &lt;dbl&gt; | PRESSURE &lt;int&gt; | HUMIDITY &lt;int&gt; | WIND_SPEED &lt;dbl&gt; | WIND_DEG &lt;int&gt; | SEASON &lt;fct&gt; | FORECAST_DATETIME &lt;fct&gt; |\n",
       "|---|---|---|---|---|---|---|---|---|---|---|---|---|\n",
       "| 1 | Seoul | Clear | 10000 | 12.32 | 10.91 | 12.32 | 1015 | 50 | 2.18 | 248 | Spring | 2021-04-16 12:00:00 |\n",
       "\n"
      ],
      "text/plain": [
       "  CITY  WEATHER VISIBILITY TEMP  TEMP_MIN TEMP_MAX PRESSURE HUMIDITY WIND_SPEED\n",
       "1 Seoul Clear   10000      12.32 10.91    12.32    1015     50       2.18      \n",
       "  WIND_DEG SEASON FORECAST_DATETIME  \n",
       "1 248      Spring 2021-04-16 12:00:00"
      ]
     },
     "metadata": {},
     "output_type": "display_data"
    }
   ],
   "source": [
    "# provide your solution here\n",
    "head(cities_weather_forecast,1)"
   ]
  },
  {
   "cell_type": "markdown",
   "metadata": {},
   "source": [
    "## Task 4 - Seasons\n",
    "#### Find which seasons are included in the seoul bike sharing dataset.\n"
   ]
  },
  {
   "cell_type": "markdown",
   "metadata": {},
   "source": [
    "### Solution 4\n"
   ]
  },
  {
   "cell_type": "code",
   "execution_count": 12,
   "metadata": {},
   "outputs": [
    {
     "data": {
      "text/html": [
       "<style>\n",
       ".list-inline {list-style: none; margin:0; padding: 0}\n",
       ".list-inline>li {display: inline-block}\n",
       ".list-inline>li:not(:last-child)::after {content: \"\\00b7\"; padding: 0 .5ex}\n",
       "</style>\n",
       "<ol class=list-inline><li>Winter</li><li>Spring</li><li>Summer</li><li>Autumn</li></ol>\n",
       "\n",
       "<details>\n",
       "\t<summary style=display:list-item;cursor:pointer>\n",
       "\t\t<strong>Levels</strong>:\n",
       "\t</summary>\n",
       "\t<style>\n",
       "\t.list-inline {list-style: none; margin:0; padding: 0}\n",
       "\t.list-inline>li {display: inline-block}\n",
       "\t.list-inline>li:not(:last-child)::after {content: \"\\00b7\"; padding: 0 .5ex}\n",
       "\t</style>\n",
       "\t<ol class=list-inline><li>'Autumn'</li><li>'Spring'</li><li>'Summer'</li><li>'Winter'</li></ol>\n",
       "</details>"
      ],
      "text/latex": [
       "\\begin{enumerate*}\n",
       "\\item Winter\n",
       "\\item Spring\n",
       "\\item Summer\n",
       "\\item Autumn\n",
       "\\end{enumerate*}\n",
       "\n",
       "\\emph{Levels}: \\begin{enumerate*}\n",
       "\\item 'Autumn'\n",
       "\\item 'Spring'\n",
       "\\item 'Summer'\n",
       "\\item 'Winter'\n",
       "\\end{enumerate*}\n"
      ],
      "text/markdown": [
       "1. Winter\n",
       "2. Spring\n",
       "3. Summer\n",
       "4. Autumn\n",
       "\n",
       "\n",
       "\n",
       "**Levels**: 1. 'Autumn'\n",
       "2. 'Spring'\n",
       "3. 'Summer'\n",
       "4. 'Winter'\n",
       "\n",
       "\n"
      ],
      "text/plain": [
       "[1] Winter Spring Summer Autumn\n",
       "Levels: Autumn Spring Summer Winter"
      ]
     },
     "metadata": {},
     "output_type": "display_data"
    }
   ],
   "source": [
    "# provide your solution here\n",
    "unique(seoul_bike_sharing$SEASON)"
   ]
  },
  {
   "cell_type": "markdown",
   "metadata": {},
   "source": [
    "## Task 5 - Date Range\n",
    "#### Find the first and last dates in the Seoul Bike Sharing dataset.\n"
   ]
  },
  {
   "cell_type": "markdown",
   "metadata": {
    "tags": []
   },
   "source": [
    "### Solution 5\n"
   ]
  },
  {
   "cell_type": "code",
   "execution_count": null,
   "metadata": {
    "tags": []
   },
   "outputs": [],
   "source": [
    "# provide your solution here\n",
    "# print(seoul_bike_sharing$DATE)\n",
    "\n",
    "\n",
    "sort((seoul_bike_sharing$DATE))\n",
    "first_date<- first(seoul_bike_sharing$DATE)\n",
    "print(paste(\"First date of Seoul Bike Sharing datase:\", first_date))\n",
    "last_date <- last(seoul_bike_sharing$DATE)\n",
    "print(paste(\"Last date of Seoul Bike Sharing datase:\", last_date))"
   ]
  },
  {
   "cell_type": "markdown",
   "metadata": {},
   "source": [
    "## Task 6 - Subquery - 'all-time high'\n",
    "#### determine which date and hour had the most bike rentals.\n"
   ]
  },
  {
   "cell_type": "markdown",
   "metadata": {},
   "source": [
    "### Solution 6\n"
   ]
  },
  {
   "cell_type": "code",
   "execution_count": 7,
   "metadata": {
    "tags": []
   },
   "outputs": [
    {
     "data": {
      "text/html": [
       "<table>\n",
       "<caption>A data.frame: 1 × 2</caption>\n",
       "<thead>\n",
       "\t<tr><th scope=col>DATE</th><th scope=col>HOUR</th></tr>\n",
       "\t<tr><th scope=col>&lt;fct&gt;</th><th scope=col>&lt;int&gt;</th></tr>\n",
       "</thead>\n",
       "<tbody>\n",
       "\t<tr><td>19/06/2018</td><td>18</td></tr>\n",
       "</tbody>\n",
       "</table>\n"
      ],
      "text/latex": [
       "A data.frame: 1 × 2\n",
       "\\begin{tabular}{ll}\n",
       " DATE & HOUR\\\\\n",
       " <fct> & <int>\\\\\n",
       "\\hline\n",
       "\t 19/06/2018 & 18\\\\\n",
       "\\end{tabular}\n"
      ],
      "text/markdown": [
       "\n",
       "A data.frame: 1 × 2\n",
       "\n",
       "| DATE &lt;fct&gt; | HOUR &lt;int&gt; |\n",
       "|---|---|\n",
       "| 19/06/2018 | 18 |\n",
       "\n"
      ],
      "text/plain": [
       "  DATE       HOUR\n",
       "1 19/06/2018 18  "
      ]
     },
     "metadata": {},
     "output_type": "display_data"
    }
   ],
   "source": [
    "# provide your solution here\n",
    "date <- seoul_bike_sharing %>%\n",
    "        filter(RENTED_BIKE_COUNT == max(RENTED_BIKE_COUNT)) %>%\n",
    "        select(DATE, HOUR)\n",
    "\n",
    "date"
   ]
  },
  {
   "cell_type": "markdown",
   "metadata": {},
   "source": [
    "## Task 7 - Hourly popularity and temperature by season\n",
    "#### Determine the average hourly temperature and the average number of bike rentals per hour over each season. List the top ten results by average bike count.\n"
   ]
  },
  {
   "cell_type": "markdown",
   "metadata": {},
   "source": [
    "### Solution 7\n"
   ]
  },
  {
   "cell_type": "code",
   "execution_count": 8,
   "metadata": {
    "tags": []
   },
   "outputs": [
    {
     "data": {
      "text/html": [
       "<table>\n",
       "<caption>A tibble: 4 × 3</caption>\n",
       "<thead>\n",
       "\t<tr><th scope=col>SEASONS</th><th scope=col>avg_temp</th><th scope=col>avg_rental</th></tr>\n",
       "\t<tr><th scope=col>&lt;fct&gt;</th><th scope=col>&lt;dbl&gt;</th><th scope=col>&lt;dbl&gt;</th></tr>\n",
       "</thead>\n",
       "<tbody>\n",
       "\t<tr><td>Autumn</td><td>13.821580</td><td> 924.1105</td></tr>\n",
       "\t<tr><td>Spring</td><td>13.021685</td><td> 746.2542</td></tr>\n",
       "\t<tr><td>Summer</td><td>26.587711</td><td>1034.0734</td></tr>\n",
       "\t<tr><td>Winter</td><td>-2.540463</td><td> 225.5412</td></tr>\n",
       "</tbody>\n",
       "</table>\n"
      ],
      "text/latex": [
       "A tibble: 4 × 3\n",
       "\\begin{tabular}{lll}\n",
       " SEASONS & avg\\_temp & avg\\_rental\\\\\n",
       " <fct> & <dbl> & <dbl>\\\\\n",
       "\\hline\n",
       "\t Autumn & 13.821580 &  924.1105\\\\\n",
       "\t Spring & 13.021685 &  746.2542\\\\\n",
       "\t Summer & 26.587711 & 1034.0734\\\\\n",
       "\t Winter & -2.540463 &  225.5412\\\\\n",
       "\\end{tabular}\n"
      ],
      "text/markdown": [
       "\n",
       "A tibble: 4 × 3\n",
       "\n",
       "| SEASONS &lt;fct&gt; | avg_temp &lt;dbl&gt; | avg_rental &lt;dbl&gt; |\n",
       "|---|---|---|\n",
       "| Autumn | 13.821580 |  924.1105 |\n",
       "| Spring | 13.021685 |  746.2542 |\n",
       "| Summer | 26.587711 | 1034.0734 |\n",
       "| Winter | -2.540463 |  225.5412 |\n",
       "\n"
      ],
      "text/plain": [
       "  SEASONS avg_temp  avg_rental\n",
       "1 Autumn  13.821580  924.1105 \n",
       "2 Spring  13.021685  746.2542 \n",
       "3 Summer  26.587711 1034.0734 \n",
       "4 Winter  -2.540463  225.5412 "
      ]
     },
     "metadata": {},
     "output_type": "display_data"
    },
    {
     "data": {
      "text/html": [
       "<table>\n",
       "<caption>A data.frame: 10 × 14</caption>\n",
       "<thead>\n",
       "\t<tr><th></th><th scope=col>DATE</th><th scope=col>RENTED_BIKE_COUNT</th><th scope=col>HOUR</th><th scope=col>TEMPERATURE</th><th scope=col>HUMIDITY</th><th scope=col>WIND_SPEED</th><th scope=col>VISIBILITY</th><th scope=col>DEW_POINT_TEMPERATURE</th><th scope=col>SOLAR_RADIATION</th><th scope=col>RAINFALL</th><th scope=col>SNOWFALL</th><th scope=col>SEASONS</th><th scope=col>HOLIDAY</th><th scope=col>FUNCTIONING_DAY</th></tr>\n",
       "\t<tr><th></th><th scope=col>&lt;fct&gt;</th><th scope=col>&lt;int&gt;</th><th scope=col>&lt;int&gt;</th><th scope=col>&lt;dbl&gt;</th><th scope=col>&lt;int&gt;</th><th scope=col>&lt;dbl&gt;</th><th scope=col>&lt;int&gt;</th><th scope=col>&lt;dbl&gt;</th><th scope=col>&lt;dbl&gt;</th><th scope=col>&lt;dbl&gt;</th><th scope=col>&lt;dbl&gt;</th><th scope=col>&lt;fct&gt;</th><th scope=col>&lt;fct&gt;</th><th scope=col>&lt;fct&gt;</th></tr>\n",
       "</thead>\n",
       "<tbody>\n",
       "\t<tr><th scope=row>1</th><td>01/12/2017</td><td>930</td><td> 8</td><td>-7.6</td><td>37</td><td>1.1</td><td>2000</td><td>-19.8</td><td>0.01</td><td>0</td><td>0.0</td><td>Winter</td><td>No Holiday</td><td>Yes</td></tr>\n",
       "\t<tr><th scope=row>2</th><td>01/12/2017</td><td>862</td><td>18</td><td> 0.6</td><td>66</td><td>1.4</td><td>2000</td><td> -5.0</td><td>0.00</td><td>0</td><td>0.0</td><td>Winter</td><td>No Holiday</td><td>Yes</td></tr>\n",
       "\t<tr><th scope=row>3</th><td>04/12/2017</td><td>937</td><td> 8</td><td>-0.8</td><td>69</td><td>3.5</td><td> 954</td><td> -5.7</td><td>0.01</td><td>0</td><td>0.0</td><td>Winter</td><td>No Holiday</td><td>Yes</td></tr>\n",
       "\t<tr><th scope=row>4</th><td>04/12/2017</td><td>807</td><td>18</td><td>-2.1</td><td>29</td><td>3.9</td><td>2000</td><td>-17.7</td><td>0.00</td><td>0</td><td>0.0</td><td>Winter</td><td>No Holiday</td><td>Yes</td></tr>\n",
       "\t<tr><th scope=row>5</th><td>05/12/2017</td><td>812</td><td> 8</td><td>-8.1</td><td>36</td><td>1.6</td><td>2000</td><td>-20.5</td><td>0.01</td><td>0</td><td>0.0</td><td>Winter</td><td>No Holiday</td><td>Yes</td></tr>\n",
       "\t<tr><th scope=row>6</th><td>05/12/2017</td><td>789</td><td>18</td><td>-2.6</td><td>40</td><td>0.0</td><td>2000</td><td>-14.4</td><td>0.00</td><td>0</td><td>0.0</td><td>Winter</td><td>No Holiday</td><td>Yes</td></tr>\n",
       "\t<tr><th scope=row>7</th><td>06/12/2017</td><td>802</td><td> 8</td><td>-4.2</td><td>78</td><td>0.0</td><td>1518</td><td> -7.4</td><td>0.01</td><td>0</td><td>0.2</td><td>Winter</td><td>No Holiday</td><td>Yes</td></tr>\n",
       "\t<tr><th scope=row>8</th><td>07/12/2017</td><td>754</td><td> 8</td><td>-0.2</td><td>96</td><td>0.8</td><td> 173</td><td> -0.7</td><td>0.01</td><td>0</td><td>0.8</td><td>Winter</td><td>No Holiday</td><td>Yes</td></tr>\n",
       "\t<tr><th scope=row>9</th><td>07/12/2017</td><td>795</td><td>18</td><td> 0.7</td><td>46</td><td>2.7</td><td>1558</td><td> -9.6</td><td>0.00</td><td>0</td><td>0.0</td><td>Winter</td><td>No Holiday</td><td>Yes</td></tr>\n",
       "\t<tr><th scope=row>10</th><td>08/12/2017</td><td>780</td><td> 8</td><td>-7.0</td><td>59</td><td>0.8</td><td>1559</td><td>-13.6</td><td>0.01</td><td>0</td><td>0.0</td><td>Winter</td><td>No Holiday</td><td>Yes</td></tr>\n",
       "</tbody>\n",
       "</table>\n"
      ],
      "text/latex": [
       "A data.frame: 10 × 14\n",
       "\\begin{tabular}{r|llllllllllllll}\n",
       "  & DATE & RENTED\\_BIKE\\_COUNT & HOUR & TEMPERATURE & HUMIDITY & WIND\\_SPEED & VISIBILITY & DEW\\_POINT\\_TEMPERATURE & SOLAR\\_RADIATION & RAINFALL & SNOWFALL & SEASONS & HOLIDAY & FUNCTIONING\\_DAY\\\\\n",
       "  & <fct> & <int> & <int> & <dbl> & <int> & <dbl> & <int> & <dbl> & <dbl> & <dbl> & <dbl> & <fct> & <fct> & <fct>\\\\\n",
       "\\hline\n",
       "\t1 & 01/12/2017 & 930 &  8 & -7.6 & 37 & 1.1 & 2000 & -19.8 & 0.01 & 0 & 0.0 & Winter & No Holiday & Yes\\\\\n",
       "\t2 & 01/12/2017 & 862 & 18 &  0.6 & 66 & 1.4 & 2000 &  -5.0 & 0.00 & 0 & 0.0 & Winter & No Holiday & Yes\\\\\n",
       "\t3 & 04/12/2017 & 937 &  8 & -0.8 & 69 & 3.5 &  954 &  -5.7 & 0.01 & 0 & 0.0 & Winter & No Holiday & Yes\\\\\n",
       "\t4 & 04/12/2017 & 807 & 18 & -2.1 & 29 & 3.9 & 2000 & -17.7 & 0.00 & 0 & 0.0 & Winter & No Holiday & Yes\\\\\n",
       "\t5 & 05/12/2017 & 812 &  8 & -8.1 & 36 & 1.6 & 2000 & -20.5 & 0.01 & 0 & 0.0 & Winter & No Holiday & Yes\\\\\n",
       "\t6 & 05/12/2017 & 789 & 18 & -2.6 & 40 & 0.0 & 2000 & -14.4 & 0.00 & 0 & 0.0 & Winter & No Holiday & Yes\\\\\n",
       "\t7 & 06/12/2017 & 802 &  8 & -4.2 & 78 & 0.0 & 1518 &  -7.4 & 0.01 & 0 & 0.2 & Winter & No Holiday & Yes\\\\\n",
       "\t8 & 07/12/2017 & 754 &  8 & -0.2 & 96 & 0.8 &  173 &  -0.7 & 0.01 & 0 & 0.8 & Winter & No Holiday & Yes\\\\\n",
       "\t9 & 07/12/2017 & 795 & 18 &  0.7 & 46 & 2.7 & 1558 &  -9.6 & 0.00 & 0 & 0.0 & Winter & No Holiday & Yes\\\\\n",
       "\t10 & 08/12/2017 & 780 &  8 & -7.0 & 59 & 0.8 & 1559 & -13.6 & 0.01 & 0 & 0.0 & Winter & No Holiday & Yes\\\\\n",
       "\\end{tabular}\n"
      ],
      "text/markdown": [
       "\n",
       "A data.frame: 10 × 14\n",
       "\n",
       "| <!--/--> | DATE &lt;fct&gt; | RENTED_BIKE_COUNT &lt;int&gt; | HOUR &lt;int&gt; | TEMPERATURE &lt;dbl&gt; | HUMIDITY &lt;int&gt; | WIND_SPEED &lt;dbl&gt; | VISIBILITY &lt;int&gt; | DEW_POINT_TEMPERATURE &lt;dbl&gt; | SOLAR_RADIATION &lt;dbl&gt; | RAINFALL &lt;dbl&gt; | SNOWFALL &lt;dbl&gt; | SEASONS &lt;fct&gt; | HOLIDAY &lt;fct&gt; | FUNCTIONING_DAY &lt;fct&gt; |\n",
       "|---|---|---|---|---|---|---|---|---|---|---|---|---|---|---|\n",
       "| 1 | 01/12/2017 | 930 |  8 | -7.6 | 37 | 1.1 | 2000 | -19.8 | 0.01 | 0 | 0.0 | Winter | No Holiday | Yes |\n",
       "| 2 | 01/12/2017 | 862 | 18 |  0.6 | 66 | 1.4 | 2000 |  -5.0 | 0.00 | 0 | 0.0 | Winter | No Holiday | Yes |\n",
       "| 3 | 04/12/2017 | 937 |  8 | -0.8 | 69 | 3.5 |  954 |  -5.7 | 0.01 | 0 | 0.0 | Winter | No Holiday | Yes |\n",
       "| 4 | 04/12/2017 | 807 | 18 | -2.1 | 29 | 3.9 | 2000 | -17.7 | 0.00 | 0 | 0.0 | Winter | No Holiday | Yes |\n",
       "| 5 | 05/12/2017 | 812 |  8 | -8.1 | 36 | 1.6 | 2000 | -20.5 | 0.01 | 0 | 0.0 | Winter | No Holiday | Yes |\n",
       "| 6 | 05/12/2017 | 789 | 18 | -2.6 | 40 | 0.0 | 2000 | -14.4 | 0.00 | 0 | 0.0 | Winter | No Holiday | Yes |\n",
       "| 7 | 06/12/2017 | 802 |  8 | -4.2 | 78 | 0.0 | 1518 |  -7.4 | 0.01 | 0 | 0.2 | Winter | No Holiday | Yes |\n",
       "| 8 | 07/12/2017 | 754 |  8 | -0.2 | 96 | 0.8 |  173 |  -0.7 | 0.01 | 0 | 0.8 | Winter | No Holiday | Yes |\n",
       "| 9 | 07/12/2017 | 795 | 18 |  0.7 | 46 | 2.7 | 1558 |  -9.6 | 0.00 | 0 | 0.0 | Winter | No Holiday | Yes |\n",
       "| 10 | 08/12/2017 | 780 |  8 | -7.0 | 59 | 0.8 | 1559 | -13.6 | 0.01 | 0 | 0.0 | Winter | No Holiday | Yes |\n",
       "\n"
      ],
      "text/plain": [
       "   DATE       RENTED_BIKE_COUNT HOUR TEMPERATURE HUMIDITY WIND_SPEED VISIBILITY\n",
       "1  01/12/2017 930                8   -7.6        37       1.1        2000      \n",
       "2  01/12/2017 862               18    0.6        66       1.4        2000      \n",
       "3  04/12/2017 937                8   -0.8        69       3.5         954      \n",
       "4  04/12/2017 807               18   -2.1        29       3.9        2000      \n",
       "5  05/12/2017 812                8   -8.1        36       1.6        2000      \n",
       "6  05/12/2017 789               18   -2.6        40       0.0        2000      \n",
       "7  06/12/2017 802                8   -4.2        78       0.0        1518      \n",
       "8  07/12/2017 754                8   -0.2        96       0.8         173      \n",
       "9  07/12/2017 795               18    0.7        46       2.7        1558      \n",
       "10 08/12/2017 780                8   -7.0        59       0.8        1559      \n",
       "   DEW_POINT_TEMPERATURE SOLAR_RADIATION RAINFALL SNOWFALL SEASONS HOLIDAY   \n",
       "1  -19.8                 0.01            0        0.0      Winter  No Holiday\n",
       "2   -5.0                 0.00            0        0.0      Winter  No Holiday\n",
       "3   -5.7                 0.01            0        0.0      Winter  No Holiday\n",
       "4  -17.7                 0.00            0        0.0      Winter  No Holiday\n",
       "5  -20.5                 0.01            0        0.0      Winter  No Holiday\n",
       "6  -14.4                 0.00            0        0.0      Winter  No Holiday\n",
       "7   -7.4                 0.01            0        0.2      Winter  No Holiday\n",
       "8   -0.7                 0.01            0        0.8      Winter  No Holiday\n",
       "9   -9.6                 0.00            0        0.0      Winter  No Holiday\n",
       "10 -13.6                 0.01            0        0.0      Winter  No Holiday\n",
       "   FUNCTIONING_DAY\n",
       "1  Yes            \n",
       "2  Yes            \n",
       "3  Yes            \n",
       "4  Yes            \n",
       "5  Yes            \n",
       "6  Yes            \n",
       "7  Yes            \n",
       "8  Yes            \n",
       "9  Yes            \n",
       "10 Yes            "
      ]
     },
     "metadata": {},
     "output_type": "display_data"
    }
   ],
   "source": [
    "season_summary <- seoul_bike_sharing %>%\n",
    "  group_by(SEASONS) %>%\n",
    "  summarise(\n",
    "    avg_temp = mean(TEMPERATURE),\n",
    "    avg_rental = mean(RENTED_BIKE_COUNT)\n",
    "  )\n",
    "\n",
    "season_summary\n",
    "top_ten <- seoul_bike_sharing %>%\n",
    "    filter(seoul_bike_sharing$RENTED_BIKE_COUNT > mean(RENTED_BIKE_COUNT))\n",
    "head(top_ten,10)"
   ]
  },
  {
   "cell_type": "markdown",
   "metadata": {},
   "source": [
    "## Task 8 - Rental Seasonality\n",
    "#### Find the average hourly bike count during each season. \n",
    "Also include the minimum, maximum, and standard deviation of the hourly bike count for each season. \n",
    "\n",
    "> Hint : Use the SQRT(AVG(col*col) - AVG(col)*AVG(col) ) function where col refers to your column name for finding the standard deviation\n"
   ]
  },
  {
   "cell_type": "markdown",
   "metadata": {},
   "source": [
    "### Solution 8\n"
   ]
  },
  {
   "cell_type": "code",
   "execution_count": 18,
   "metadata": {
    "tags": []
   },
   "outputs": [
    {
     "data": {
      "text/html": [
       "<table>\n",
       "<caption>A tibble: 4 × 5</caption>\n",
       "<thead>\n",
       "\t<tr><th scope=col>SEASONS</th><th scope=col>avg_bike_count</th><th scope=col>min_bike_count</th><th scope=col>max_bike_count</th><th scope=col>sd_bike_count</th></tr>\n",
       "\t<tr><th scope=col>&lt;fct&gt;</th><th scope=col>&lt;dbl&gt;</th><th scope=col>&lt;int&gt;</th><th scope=col>&lt;int&gt;</th><th scope=col>&lt;dbl&gt;</th></tr>\n",
       "</thead>\n",
       "<tbody>\n",
       "\t<tr><td>Autumn</td><td> 924.1105</td><td>3298</td><td>2</td><td>617.5479</td></tr>\n",
       "\t<tr><td>Spring</td><td> 746.2542</td><td>3251</td><td>2</td><td>618.6680</td></tr>\n",
       "\t<tr><td>Summer</td><td>1034.0734</td><td>3556</td><td>9</td><td>690.2448</td></tr>\n",
       "\t<tr><td>Winter</td><td> 225.5412</td><td> 937</td><td>3</td><td>150.3722</td></tr>\n",
       "</tbody>\n",
       "</table>\n"
      ],
      "text/latex": [
       "A tibble: 4 × 5\n",
       "\\begin{tabular}{lllll}\n",
       " SEASONS & avg\\_bike\\_count & min\\_bike\\_count & max\\_bike\\_count & sd\\_bike\\_count\\\\\n",
       " <fct> & <dbl> & <int> & <int> & <dbl>\\\\\n",
       "\\hline\n",
       "\t Autumn &  924.1105 & 3298 & 2 & 617.5479\\\\\n",
       "\t Spring &  746.2542 & 3251 & 2 & 618.6680\\\\\n",
       "\t Summer & 1034.0734 & 3556 & 9 & 690.2448\\\\\n",
       "\t Winter &  225.5412 &  937 & 3 & 150.3722\\\\\n",
       "\\end{tabular}\n"
      ],
      "text/markdown": [
       "\n",
       "A tibble: 4 × 5\n",
       "\n",
       "| SEASONS &lt;fct&gt; | avg_bike_count &lt;dbl&gt; | min_bike_count &lt;int&gt; | max_bike_count &lt;int&gt; | sd_bike_count &lt;dbl&gt; |\n",
       "|---|---|---|---|---|\n",
       "| Autumn |  924.1105 | 3298 | 2 | 617.5479 |\n",
       "| Spring |  746.2542 | 3251 | 2 | 618.6680 |\n",
       "| Summer | 1034.0734 | 3556 | 9 | 690.2448 |\n",
       "| Winter |  225.5412 |  937 | 3 | 150.3722 |\n",
       "\n"
      ],
      "text/plain": [
       "  SEASONS avg_bike_count min_bike_count max_bike_count sd_bike_count\n",
       "1 Autumn   924.1105      3298           2              617.5479     \n",
       "2 Spring   746.2542      3251           2              618.6680     \n",
       "3 Summer  1034.0734      3556           9              690.2448     \n",
       "4 Winter   225.5412       937           3              150.3722     "
      ]
     },
     "metadata": {},
     "output_type": "display_data"
    }
   ],
   "source": [
    "bike_count_summary <- seoul_bike_sharing %>%\n",
    "  group_by(SEASONS) %>%\n",
    "  summarise(\n",
    "    avg_bike_count = mean(RENTED_BIKE_COUNT),\n",
    "    min_bike_count = max(RENTED_BIKE_COUNT),\n",
    "    max_bike_count = min(RENTED_BIKE_COUNT),\n",
    "    sd_bike_count = sd(RENTED_BIKE_COUNT),\n",
    "  )\n",
    "\n",
    "bike_count_summary"
   ]
  },
  {
   "cell_type": "markdown",
   "metadata": {},
   "source": [
    "Let's explore a bit and see what might be the most significant contributing factors in terms of the provided data.\n"
   ]
  },
  {
   "cell_type": "markdown",
   "metadata": {},
   "source": [
    "## Task 9 - Weather Seasonality\n",
    "#### Consider the weather over each season. On average, what were the TEMPERATURE, HUMIDITY, WIND_SPEED, VISIBILITY, DEW_POINT_TEMPERATURE, SOLAR_RADIATION, RAINFALL, and SNOWFALL per season?\n",
    "Include the average bike count as well , and rank the results by average bike count so you can see if it is correlated with the weather at all. \n"
   ]
  },
  {
   "cell_type": "markdown",
   "metadata": {},
   "source": [
    "### Solution 9\n"
   ]
  },
  {
   "cell_type": "code",
   "execution_count": 26,
   "metadata": {
    "tags": []
   },
   "outputs": [
    {
     "data": {
      "text/html": [
       "<table>\n",
       "<caption>A tibble: 4 × 9</caption>\n",
       "<thead>\n",
       "\t<tr><th scope=col>SEASONS</th><th scope=col>avg_temp</th><th scope=col>avg_hum</th><th scope=col>avg_wind</th><th scope=col>avg_visibility</th><th scope=col>avg_dew_temp</th><th scope=col>avg_raditaion</th><th scope=col>avg_rainfall</th><th scope=col>avg_snowfall</th></tr>\n",
       "\t<tr><th scope=col>&lt;fct&gt;</th><th scope=col>&lt;dbl&gt;</th><th scope=col>&lt;dbl&gt;</th><th scope=col>&lt;dbl&gt;</th><th scope=col>&lt;dbl&gt;</th><th scope=col>&lt;dbl&gt;</th><th scope=col>&lt;dbl&gt;</th><th scope=col>&lt;dbl&gt;</th><th scope=col>&lt;dbl&gt;</th></tr>\n",
       "</thead>\n",
       "<tbody>\n",
       "\t<tr><td>Autumn</td><td>13.821580</td><td>59.04491</td><td>1.492101</td><td>1558.174</td><td>  5.150594</td><td>0.5227827</td><td>0.11765617</td><td>0.06350026</td></tr>\n",
       "\t<tr><td>Spring</td><td>13.021685</td><td>58.75833</td><td>1.857778</td><td>1240.912</td><td>  4.091389</td><td>0.6803009</td><td>0.18694444</td><td>0.00000000</td></tr>\n",
       "\t<tr><td>Summer</td><td>26.587711</td><td>64.98143</td><td>1.609420</td><td>1501.745</td><td> 18.750136</td><td>0.7612545</td><td>0.25348732</td><td>0.00000000</td></tr>\n",
       "\t<tr><td>Winter</td><td>-2.540463</td><td>49.74491</td><td>1.922685</td><td>1445.987</td><td>-12.416667</td><td>0.2981806</td><td>0.03282407</td><td>0.24750000</td></tr>\n",
       "</tbody>\n",
       "</table>\n"
      ],
      "text/latex": [
       "A tibble: 4 × 9\n",
       "\\begin{tabular}{lllllllll}\n",
       " SEASONS & avg\\_temp & avg\\_hum & avg\\_wind & avg\\_visibility & avg\\_dew\\_temp & avg\\_raditaion & avg\\_rainfall & avg\\_snowfall\\\\\n",
       " <fct> & <dbl> & <dbl> & <dbl> & <dbl> & <dbl> & <dbl> & <dbl> & <dbl>\\\\\n",
       "\\hline\n",
       "\t Autumn & 13.821580 & 59.04491 & 1.492101 & 1558.174 &   5.150594 & 0.5227827 & 0.11765617 & 0.06350026\\\\\n",
       "\t Spring & 13.021685 & 58.75833 & 1.857778 & 1240.912 &   4.091389 & 0.6803009 & 0.18694444 & 0.00000000\\\\\n",
       "\t Summer & 26.587711 & 64.98143 & 1.609420 & 1501.745 &  18.750136 & 0.7612545 & 0.25348732 & 0.00000000\\\\\n",
       "\t Winter & -2.540463 & 49.74491 & 1.922685 & 1445.987 & -12.416667 & 0.2981806 & 0.03282407 & 0.24750000\\\\\n",
       "\\end{tabular}\n"
      ],
      "text/markdown": [
       "\n",
       "A tibble: 4 × 9\n",
       "\n",
       "| SEASONS &lt;fct&gt; | avg_temp &lt;dbl&gt; | avg_hum &lt;dbl&gt; | avg_wind &lt;dbl&gt; | avg_visibility &lt;dbl&gt; | avg_dew_temp &lt;dbl&gt; | avg_raditaion &lt;dbl&gt; | avg_rainfall &lt;dbl&gt; | avg_snowfall &lt;dbl&gt; |\n",
       "|---|---|---|---|---|---|---|---|---|\n",
       "| Autumn | 13.821580 | 59.04491 | 1.492101 | 1558.174 |   5.150594 | 0.5227827 | 0.11765617 | 0.06350026 |\n",
       "| Spring | 13.021685 | 58.75833 | 1.857778 | 1240.912 |   4.091389 | 0.6803009 | 0.18694444 | 0.00000000 |\n",
       "| Summer | 26.587711 | 64.98143 | 1.609420 | 1501.745 |  18.750136 | 0.7612545 | 0.25348732 | 0.00000000 |\n",
       "| Winter | -2.540463 | 49.74491 | 1.922685 | 1445.987 | -12.416667 | 0.2981806 | 0.03282407 | 0.24750000 |\n",
       "\n"
      ],
      "text/plain": [
       "  SEASONS avg_temp  avg_hum  avg_wind avg_visibility avg_dew_temp avg_raditaion\n",
       "1 Autumn  13.821580 59.04491 1.492101 1558.174         5.150594   0.5227827    \n",
       "2 Spring  13.021685 58.75833 1.857778 1240.912         4.091389   0.6803009    \n",
       "3 Summer  26.587711 64.98143 1.609420 1501.745        18.750136   0.7612545    \n",
       "4 Winter  -2.540463 49.74491 1.922685 1445.987       -12.416667   0.2981806    \n",
       "  avg_rainfall avg_snowfall\n",
       "1 0.11765617   0.06350026  \n",
       "2 0.18694444   0.00000000  \n",
       "3 0.25348732   0.00000000  \n",
       "4 0.03282407   0.24750000  "
      ]
     },
     "metadata": {},
     "output_type": "display_data"
    }
   ],
   "source": [
    "# provide your solution here\n",
    "avg_summary <- seoul_bike_sharing %>%\n",
    "    group_by(SEASONS) %>%\n",
    "    summarise(\n",
    "        avg_temp = mean(TEMPERATURE),\n",
    "        avg_hum = mean(HUMIDITY),\n",
    "        avg_wind = mean(WIND_SPEED),\n",
    "        avg_visibility = mean(VISIBILITY),\n",
    "        avg_dew_temp = mean(DEW_POINT_TEMPERATURE),\n",
    "        avg_raditaion = mean(SOLAR_RADIATION),\n",
    "        avg_rainfall = mean(RAINFALL),\n",
    "        avg_snowfall = mean(SNOWFALL)\n",
    "    )\n",
    "\n",
    "avg_summary"
   ]
  },
  {
   "cell_type": "markdown",
   "metadata": {},
   "source": [
    "## Task 10 - Total Bike Count and City Info for Seoul\n",
    "#### Use an implicit join across the WORLD_CITIES and the BIKE_SHARING_SYSTEMS tables to determine the total number of bikes avaialble in Seoul, plus the following city information about Seoul: CITY, COUNTRY, LAT, LON, POPULATION, in a single view.\n",
    "Notice that in this case, the CITY column will work for the WORLD_CITIES table, but in general you would have to use the CITY_ASCII column.\n"
   ]
  },
  {
   "cell_type": "code",
   "execution_count": 35,
   "metadata": {
    "tags": []
   },
   "outputs": [
    {
     "data": {
      "text/html": [
       "<table>\n",
       "<caption>A data.frame: 6 × 11</caption>\n",
       "<thead>\n",
       "\t<tr><th></th><th scope=col>CITY</th><th scope=col>CITY_ASCII</th><th scope=col>LAT</th><th scope=col>LNG</th><th scope=col>COUNTRY</th><th scope=col>ISO2</th><th scope=col>ISO3</th><th scope=col>ADMIN_NAME</th><th scope=col>CAPITAL</th><th scope=col>POPULATION</th><th scope=col>ID</th></tr>\n",
       "\t<tr><th></th><th scope=col>&lt;fct&gt;</th><th scope=col>&lt;fct&gt;</th><th scope=col>&lt;dbl&gt;</th><th scope=col>&lt;dbl&gt;</th><th scope=col>&lt;fct&gt;</th><th scope=col>&lt;fct&gt;</th><th scope=col>&lt;fct&gt;</th><th scope=col>&lt;fct&gt;</th><th scope=col>&lt;fct&gt;</th><th scope=col>&lt;dbl&gt;</th><th scope=col>&lt;dbl&gt;</th></tr>\n",
       "</thead>\n",
       "<tbody>\n",
       "\t<tr><th scope=row>1</th><td>Tokyo   </td><td>Tokyo   </td><td>35.6897</td><td>139.6922</td><td>Japan      </td><td>JP</td><td>JPN</td><td>Tōkyō      </td><td>primary</td><td>37977000</td><td>1392685764</td></tr>\n",
       "\t<tr><th scope=row>2</th><td>Jakarta </td><td>Jakarta </td><td>-6.2146</td><td>106.8451</td><td>Indonesia  </td><td>ID</td><td>IDN</td><td>Jakarta    </td><td>primary</td><td>34540000</td><td>1360771077</td></tr>\n",
       "\t<tr><th scope=row>3</th><td>Delhi   </td><td>Delhi   </td><td>28.6600</td><td> 77.2300</td><td>India      </td><td>IN</td><td>IND</td><td>Delhi      </td><td>admin  </td><td>29617000</td><td>1356872604</td></tr>\n",
       "\t<tr><th scope=row>4</th><td>Mumbai  </td><td>Mumbai  </td><td>18.9667</td><td> 72.8333</td><td>India      </td><td>IN</td><td>IND</td><td>Mahārāshtra</td><td>admin  </td><td>23355000</td><td>1356226629</td></tr>\n",
       "\t<tr><th scope=row>5</th><td>Manila  </td><td>Manila  </td><td>14.5958</td><td>120.9772</td><td>Philippines</td><td>PH</td><td>PHL</td><td>Manila     </td><td>primary</td><td>23088000</td><td>1608618140</td></tr>\n",
       "\t<tr><th scope=row>6</th><td>Shanghai</td><td>Shanghai</td><td>31.1667</td><td>121.4667</td><td>China      </td><td>CN</td><td>CHN</td><td>Shanghai   </td><td>admin  </td><td>22120000</td><td>1156073548</td></tr>\n",
       "</tbody>\n",
       "</table>\n"
      ],
      "text/latex": [
       "A data.frame: 6 × 11\n",
       "\\begin{tabular}{r|lllllllllll}\n",
       "  & CITY & CITY\\_ASCII & LAT & LNG & COUNTRY & ISO2 & ISO3 & ADMIN\\_NAME & CAPITAL & POPULATION & ID\\\\\n",
       "  & <fct> & <fct> & <dbl> & <dbl> & <fct> & <fct> & <fct> & <fct> & <fct> & <dbl> & <dbl>\\\\\n",
       "\\hline\n",
       "\t1 & Tokyo    & Tokyo    & 35.6897 & 139.6922 & Japan       & JP & JPN & Tōkyō       & primary & 37977000 & 1392685764\\\\\n",
       "\t2 & Jakarta  & Jakarta  & -6.2146 & 106.8451 & Indonesia   & ID & IDN & Jakarta     & primary & 34540000 & 1360771077\\\\\n",
       "\t3 & Delhi    & Delhi    & 28.6600 &  77.2300 & India       & IN & IND & Delhi       & admin   & 29617000 & 1356872604\\\\\n",
       "\t4 & Mumbai   & Mumbai   & 18.9667 &  72.8333 & India       & IN & IND & Mahārāshtra & admin   & 23355000 & 1356226629\\\\\n",
       "\t5 & Manila   & Manila   & 14.5958 & 120.9772 & Philippines & PH & PHL & Manila      & primary & 23088000 & 1608618140\\\\\n",
       "\t6 & Shanghai & Shanghai & 31.1667 & 121.4667 & China       & CN & CHN & Shanghai    & admin   & 22120000 & 1156073548\\\\\n",
       "\\end{tabular}\n"
      ],
      "text/markdown": [
       "\n",
       "A data.frame: 6 × 11\n",
       "\n",
       "| <!--/--> | CITY &lt;fct&gt; | CITY_ASCII &lt;fct&gt; | LAT &lt;dbl&gt; | LNG &lt;dbl&gt; | COUNTRY &lt;fct&gt; | ISO2 &lt;fct&gt; | ISO3 &lt;fct&gt; | ADMIN_NAME &lt;fct&gt; | CAPITAL &lt;fct&gt; | POPULATION &lt;dbl&gt; | ID &lt;dbl&gt; |\n",
       "|---|---|---|---|---|---|---|---|---|---|---|---|\n",
       "| 1 | Tokyo    | Tokyo    | 35.6897 | 139.6922 | Japan       | JP | JPN | Tōkyō       | primary | 37977000 | 1392685764 |\n",
       "| 2 | Jakarta  | Jakarta  | -6.2146 | 106.8451 | Indonesia   | ID | IDN | Jakarta     | primary | 34540000 | 1360771077 |\n",
       "| 3 | Delhi    | Delhi    | 28.6600 |  77.2300 | India       | IN | IND | Delhi       | admin   | 29617000 | 1356872604 |\n",
       "| 4 | Mumbai   | Mumbai   | 18.9667 |  72.8333 | India       | IN | IND | Mahārāshtra | admin   | 23355000 | 1356226629 |\n",
       "| 5 | Manila   | Manila   | 14.5958 | 120.9772 | Philippines | PH | PHL | Manila      | primary | 23088000 | 1608618140 |\n",
       "| 6 | Shanghai | Shanghai | 31.1667 | 121.4667 | China       | CN | CHN | Shanghai    | admin   | 22120000 | 1156073548 |\n",
       "\n"
      ],
      "text/plain": [
       "  CITY     CITY_ASCII LAT     LNG      COUNTRY     ISO2 ISO3 ADMIN_NAME \n",
       "1 Tokyo    Tokyo      35.6897 139.6922 Japan       JP   JPN  Tōkyō      \n",
       "2 Jakarta  Jakarta    -6.2146 106.8451 Indonesia   ID   IDN  Jakarta    \n",
       "3 Delhi    Delhi      28.6600  77.2300 India       IN   IND  Delhi      \n",
       "4 Mumbai   Mumbai     18.9667  72.8333 India       IN   IND  Mahārāshtra\n",
       "5 Manila   Manila     14.5958 120.9772 Philippines PH   PHL  Manila     \n",
       "6 Shanghai Shanghai   31.1667 121.4667 China       CN   CHN  Shanghai   \n",
       "  CAPITAL POPULATION ID        \n",
       "1 primary 37977000   1392685764\n",
       "2 primary 34540000   1360771077\n",
       "3 admin   29617000   1356872604\n",
       "4 admin   23355000   1356226629\n",
       "5 primary 23088000   1608618140\n",
       "6 admin   22120000   1156073548"
      ]
     },
     "metadata": {},
     "output_type": "display_data"
    },
    {
     "data": {
      "text/html": [
       "<table>\n",
       "<caption>A data.frame: 6 × 4</caption>\n",
       "<thead>\n",
       "\t<tr><th></th><th scope=col>COUNTRY</th><th scope=col>CITY</th><th scope=col>SYSTEM</th><th scope=col>BICYCLES</th></tr>\n",
       "\t<tr><th></th><th scope=col>&lt;fct&gt;</th><th scope=col>&lt;fct&gt;</th><th scope=col>&lt;fct&gt;</th><th scope=col>&lt;int&gt;</th></tr>\n",
       "</thead>\n",
       "<tbody>\n",
       "\t<tr><th scope=row>1</th><td>Albania  </td><td>Tirana               </td><td>NA            </td><td> 200</td></tr>\n",
       "\t<tr><th scope=row>2</th><td>Argentina</td><td>Mendoza              </td><td>NA            </td><td>  40</td></tr>\n",
       "\t<tr><th scope=row>3</th><td>Argentina</td><td>San Lorenzo, Santa Fe</td><td>Biciudad      </td><td>  80</td></tr>\n",
       "\t<tr><th scope=row>4</th><td>Argentina</td><td>Buenos Aires         </td><td>Serttel Brasil</td><td>4000</td></tr>\n",
       "\t<tr><th scope=row>5</th><td>Argentina</td><td>Rosario              </td><td>NA            </td><td> 480</td></tr>\n",
       "\t<tr><th scope=row>6</th><td>Australia</td><td><span style=white-space:pre-wrap>Melbourne            </span></td><td><span style=white-space:pre-wrap>PBSC &amp; 8D     </span></td><td> 676</td></tr>\n",
       "</tbody>\n",
       "</table>\n"
      ],
      "text/latex": [
       "A data.frame: 6 × 4\n",
       "\\begin{tabular}{r|llll}\n",
       "  & COUNTRY & CITY & SYSTEM & BICYCLES\\\\\n",
       "  & <fct> & <fct> & <fct> & <int>\\\\\n",
       "\\hline\n",
       "\t1 & Albania   & Tirana                & NA             &  200\\\\\n",
       "\t2 & Argentina & Mendoza               & NA             &   40\\\\\n",
       "\t3 & Argentina & San Lorenzo, Santa Fe & Biciudad       &   80\\\\\n",
       "\t4 & Argentina & Buenos Aires          & Serttel Brasil & 4000\\\\\n",
       "\t5 & Argentina & Rosario               & NA             &  480\\\\\n",
       "\t6 & Australia & Melbourne             & PBSC \\& 8D      &  676\\\\\n",
       "\\end{tabular}\n"
      ],
      "text/markdown": [
       "\n",
       "A data.frame: 6 × 4\n",
       "\n",
       "| <!--/--> | COUNTRY &lt;fct&gt; | CITY &lt;fct&gt; | SYSTEM &lt;fct&gt; | BICYCLES &lt;int&gt; |\n",
       "|---|---|---|---|---|\n",
       "| 1 | Albania   | Tirana                | NA             |  200 |\n",
       "| 2 | Argentina | Mendoza               | NA             |   40 |\n",
       "| 3 | Argentina | San Lorenzo, Santa Fe | Biciudad       |   80 |\n",
       "| 4 | Argentina | Buenos Aires          | Serttel Brasil | 4000 |\n",
       "| 5 | Argentina | Rosario               | NA             |  480 |\n",
       "| 6 | Australia | Melbourne             | PBSC &amp; 8D      |  676 |\n",
       "\n"
      ],
      "text/plain": [
       "  COUNTRY   CITY                  SYSTEM         BICYCLES\n",
       "1 Albania   Tirana                NA              200    \n",
       "2 Argentina Mendoza               NA               40    \n",
       "3 Argentina San Lorenzo, Santa Fe Biciudad         80    \n",
       "4 Argentina Buenos Aires          Serttel Brasil 4000    \n",
       "5 Argentina Rosario               NA              480    \n",
       "6 Australia Melbourne             PBSC & 8D       676    "
      ]
     },
     "metadata": {},
     "output_type": "display_data"
    }
   ],
   "source": [
    "head(world_cities)\n",
    "head(bike_sharing_systems)\n",
    "\n"
   ]
  },
  {
   "cell_type": "markdown",
   "metadata": {},
   "source": [
    "### Solution 10\n"
   ]
  },
  {
   "cell_type": "code",
   "execution_count": 55,
   "metadata": {
    "tags": []
   },
   "outputs": [
    {
     "name": "stderr",
     "output_type": "stream",
     "text": [
      "Warning message:\n",
      "“Column `CITY` joining factors with different levels, coercing to character vector”"
     ]
    },
    {
     "name": "stdout",
     "output_type": "stream",
     "text": [
      "   CITY      COUNTRY     LAT LNG POPULATION BICYCLES\n",
      "1 Seoul Korea, South 37.5833 127   21794000    20000\n"
     ]
    }
   ],
   "source": [
    "seoul_info <- world_cities %>%\n",
    "  left_join(bike_sharing_systems, by = \"CITY\") %>%\n",
    "  filter(CITY == \"Seoul\") %>%\n",
    "  select(CITY, COUNTRY.x, LAT, LNG, POPULATION, BICYCLES) %>%\n",
    "  rename(COUNTRY = COUNTRY.x) \n",
    "# Print the result\n",
    "print(seoul_info)"
   ]
  },
  {
   "cell_type": "markdown",
   "metadata": {},
   "source": [
    "## Task 11 - Find all city names and coordinates with comparable bike scale to Seoul's bike sharing system\n",
    "#### Find all cities with total bike counts between 15000 and 20000. Return the city and country names, plus the coordinates (LAT, LNG), population, and number of bicycles for each city.\n",
    "Later we will ask you to visualize these similar cities on leaflet, with some weather data.\n"
   ]
  },
  {
   "cell_type": "markdown",
   "metadata": {},
   "source": [
    "### Solution 11\n"
   ]
  },
  {
   "cell_type": "code",
   "execution_count": 63,
   "metadata": {
    "tags": []
   },
   "outputs": [
    {
     "name": "stderr",
     "output_type": "stream",
     "text": [
      "Warning message:\n",
      "“Column `CITY` joining factors with different levels, coercing to character vector”"
     ]
    },
    {
     "data": {
      "text/html": [
       "<table>\n",
       "<caption>A data.frame: 6 × 6</caption>\n",
       "<thead>\n",
       "\t<tr><th scope=col>CITY</th><th scope=col>COUNTRY</th><th scope=col>LAT</th><th scope=col>LNG</th><th scope=col>POPULATION</th><th scope=col>BICYCLES</th></tr>\n",
       "\t<tr><th scope=col>&lt;chr&gt;</th><th scope=col>&lt;fct&gt;</th><th scope=col>&lt;dbl&gt;</th><th scope=col>&lt;dbl&gt;</th><th scope=col>&lt;dbl&gt;</th><th scope=col>&lt;int&gt;</th></tr>\n",
       "</thead>\n",
       "<tbody>\n",
       "\t<tr><td>Shanghai</td><td>China       </td><td>31.1667</td><td>121.4667</td><td>22120000</td><td>19165</td></tr>\n",
       "\t<tr><td>Seoul   </td><td>Korea, South</td><td>37.5833</td><td>127.0000</td><td>21794000</td><td>20000</td></tr>\n",
       "\t<tr><td>Beijing </td><td>China       </td><td>39.9050</td><td>116.3914</td><td>19433000</td><td>16000</td></tr>\n",
       "\t<tr><td>Weifang </td><td>China       </td><td>36.7167</td><td>119.1000</td><td> 9373000</td><td>20000</td></tr>\n",
       "\t<tr><td>Ningbo  </td><td>China       </td><td>29.8750</td><td>121.5492</td><td> 7639000</td><td>15000</td></tr>\n",
       "\t<tr><td>Zhuzhou </td><td>China       </td><td>27.8407</td><td>113.1469</td><td> 3855609</td><td>20000</td></tr>\n",
       "</tbody>\n",
       "</table>\n"
      ],
      "text/latex": [
       "A data.frame: 6 × 6\n",
       "\\begin{tabular}{llllll}\n",
       " CITY & COUNTRY & LAT & LNG & POPULATION & BICYCLES\\\\\n",
       " <chr> & <fct> & <dbl> & <dbl> & <dbl> & <int>\\\\\n",
       "\\hline\n",
       "\t Shanghai & China        & 31.1667 & 121.4667 & 22120000 & 19165\\\\\n",
       "\t Seoul    & Korea, South & 37.5833 & 127.0000 & 21794000 & 20000\\\\\n",
       "\t Beijing  & China        & 39.9050 & 116.3914 & 19433000 & 16000\\\\\n",
       "\t Weifang  & China        & 36.7167 & 119.1000 &  9373000 & 20000\\\\\n",
       "\t Ningbo   & China        & 29.8750 & 121.5492 &  7639000 & 15000\\\\\n",
       "\t Zhuzhou  & China        & 27.8407 & 113.1469 &  3855609 & 20000\\\\\n",
       "\\end{tabular}\n"
      ],
      "text/markdown": [
       "\n",
       "A data.frame: 6 × 6\n",
       "\n",
       "| CITY &lt;chr&gt; | COUNTRY &lt;fct&gt; | LAT &lt;dbl&gt; | LNG &lt;dbl&gt; | POPULATION &lt;dbl&gt; | BICYCLES &lt;int&gt; |\n",
       "|---|---|---|---|---|---|\n",
       "| Shanghai | China        | 31.1667 | 121.4667 | 22120000 | 19165 |\n",
       "| Seoul    | Korea, South | 37.5833 | 127.0000 | 21794000 | 20000 |\n",
       "| Beijing  | China        | 39.9050 | 116.3914 | 19433000 | 16000 |\n",
       "| Weifang  | China        | 36.7167 | 119.1000 |  9373000 | 20000 |\n",
       "| Ningbo   | China        | 29.8750 | 121.5492 |  7639000 | 15000 |\n",
       "| Zhuzhou  | China        | 27.8407 | 113.1469 |  3855609 | 20000 |\n",
       "\n"
      ],
      "text/plain": [
       "  CITY     COUNTRY      LAT     LNG      POPULATION BICYCLES\n",
       "1 Shanghai China        31.1667 121.4667 22120000   19165   \n",
       "2 Seoul    Korea, South 37.5833 127.0000 21794000   20000   \n",
       "3 Beijing  China        39.9050 116.3914 19433000   16000   \n",
       "4 Weifang  China        36.7167 119.1000  9373000   20000   \n",
       "5 Ningbo   China        29.8750 121.5492  7639000   15000   \n",
       "6 Zhuzhou  China        27.8407 113.1469  3855609   20000   "
      ]
     },
     "metadata": {},
     "output_type": "display_data"
    }
   ],
   "source": [
    "# provide your solution here\n",
    "info <- world_cities %>%\n",
    "  left_join(bike_sharing_systems, by = \"CITY\") %>%\n",
    "  filter(!is.na(BICYCLES) & BICYCLES >= 15000 & BICYCLES <= 20000) %>%\n",
    "  select(CITY, COUNTRY.x, LAT, LNG, POPULATION, BICYCLES) %>%\n",
    "  rename(COUNTRY = COUNTRY.x) \n",
    "info"
   ]
  },
  {
   "cell_type": "code",
   "execution_count": 7,
   "metadata": {
    "tags": []
   },
   "outputs": [],
   "source": [
    "dbDisconnect(con)"
   ]
  },
  {
   "cell_type": "markdown",
   "metadata": {},
   "source": [
    "## Author(s)\n",
    "\n",
    "<h4> Jeff Grossman </h4>\n",
    "<h4> Lakshmi Holla </h4>\n",
    "\n",
    "\n",
    "## Other Contributor(s)\n",
    "\n",
    "<h4>  Malika Singla </h4>\n",
    "\n",
    "## Change log\n",
    "\n",
    "| Date (YYYY-MM-DD) | Version | Changed By | Change Description                 |\n",
    "| ----------------- | ------- | ---------- | ---------------------------------- |\n",
    "| 2022-03-03        | 1.0     |Lakshmi Holla  | Created lab using sqlite3          |\n",
    "\n",
    "## <h3 align=\"center\"> © IBM Corporation 2022. All rights reserved. <h3/>\n"
   ]
  }
 ],
 "metadata": {
  "kernelspec": {
   "display_name": "R",
   "language": "R",
   "name": "conda-env-r-r"
  },
  "language_info": {
   "codemirror_mode": "r",
   "file_extension": ".r",
   "mimetype": "text/x-r-source",
   "name": "R",
   "pygments_lexer": "r",
   "version": "3.5.1"
  }
 },
 "nbformat": 4,
 "nbformat_minor": 4
}
