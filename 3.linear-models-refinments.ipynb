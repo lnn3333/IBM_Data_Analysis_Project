{
 "cells": [
  {
   "cell_type": "markdown",
   "id": "18af3f6e-e257-4175-a121-f12a8ccc99d3",
   "metadata": {},
   "source": [
    "<center>\n",
    "<img src=\"https://cf-courses-data.s3.us.cloud-object-storage.appdomain.cloud/IBMDeveloperSkillsNetwork-RP0321EN-SkillsNetwork/labs/module_1/images/SN_web_lightmode.png\" width=\"300\"> \n",
    "</center>\n"
   ]
  },
  {
   "cell_type": "markdown",
   "id": "275ff796-7e6a-41e7-8a32-d29b108d91a4",
   "metadata": {},
   "source": [
    "<h1>Refine the Baseline Regression Models</h1>\n",
    "\n",
    "Estimated time needed: **120** minutes\n"
   ]
  },
  {
   "cell_type": "markdown",
   "id": "0b89aa46-144d-40ed-8644-a48c267949cf",
   "metadata": {},
   "source": [
    "## Lab Overview:\n",
    "\n",
    "Now you have built a baseline regression model with some relatively good RMSE and R-squared reported values. However, we could still improve it by using methods like adding polynomial and interaction terms, regularization, and so on.\n",
    "\n",
    "In this lab, you will be asked to continue using `tidymodels` to improve the performance of baseline model:\n",
    "\n",
    "- **TASK: Add polynomial terms**\n",
    "- **TASK: Add interactions terms**\n",
    "- **TASK: Add regularizations terms**\n",
    "- **TASK: Experiment to search for improved models**\n",
    "\n",
    "\n",
    "Let's start!\n"
   ]
  },
  {
   "cell_type": "markdown",
   "id": "0a05113e-82b4-4ae0-b779-292273835df1",
   "metadata": {},
   "source": [
    "The tidyverse and the tidymodels packages can be used to produce high quality statistical and machine learning models. The Tidyverse library is a useful tool that provides various tools for data visualization, data manipulation, and read various datasets into a data frame; our Jupyter notebook platforms have a built-in Tidymodels, Tidyverse and rlang libraries, so we do not need to install these packages prior to loading library. However, if you decide to run this lab on your RStudio Desktop locally on your machine, you can remove the commented lines of code to install these packages before loading.\n"
   ]
  },
  {
   "cell_type": "code",
   "execution_count": 10,
   "id": "f0795c9f-e7a5-4a7f-91c6-79ada4139cbf",
   "metadata": {},
   "outputs": [
    {
     "name": "stderr",
     "output_type": "stream",
     "text": [
      "Installing package into 'C:/Users/nguye/AppData/Local/R/win-library/4.4'\n",
      "(as 'lib' is unspecified)\n",
      "\n"
     ]
    },
    {
     "name": "stdout",
     "output_type": "stream",
     "text": [
      "package 'tidyverse' successfully unpacked and MD5 sums checked\n",
      "\n",
      "The downloaded binary packages are in\n",
      "\tC:\\Users\\nguye\\AppData\\Local\\Temp\\RtmpK0s8OJ\\downloaded_packages\n"
     ]
    },
    {
     "name": "stderr",
     "output_type": "stream",
     "text": [
      "Installing package into 'C:/Users/nguye/AppData/Local/R/win-library/4.4'\n",
      "(as 'lib' is unspecified)\n",
      "\n"
     ]
    },
    {
     "name": "stdout",
     "output_type": "stream",
     "text": [
      "package 'tidymodels' successfully unpacked and MD5 sums checked\n",
      "\n",
      "The downloaded binary packages are in\n",
      "\tC:\\Users\\nguye\\AppData\\Local\\Temp\\RtmpK0s8OJ\\downloaded_packages\n"
     ]
    },
    {
     "name": "stderr",
     "output_type": "stream",
     "text": [
      "Installing package into 'C:/Users/nguye/AppData/Local/R/win-library/4.4'\n",
      "(as 'lib' is unspecified)\n",
      "\n"
     ]
    },
    {
     "name": "stdout",
     "output_type": "stream",
     "text": [
      "package 'dplyr' successfully unpacked and MD5 sums checked\n"
     ]
    },
    {
     "name": "stderr",
     "output_type": "stream",
     "text": [
      "Warning message:\n",
      "\"cannot remove prior installation of package 'dplyr'\"\n",
      "Warning message in file.copy(savedcopy, lib, recursive = TRUE):\n",
      "\"problem copying C:\\Users\\nguye\\AppData\\Local\\R\\win-library\\4.4\\00LOCK\\dplyr\\libs\\x64\\dplyr.dll to C:\\Users\\nguye\\AppData\\Local\\R\\win-library\\4.4\\dplyr\\libs\\x64\\dplyr.dll: Permission denied\"\n",
      "Warning message:\n",
      "\"restored 'dplyr'\"\n"
     ]
    },
    {
     "name": "stdout",
     "output_type": "stream",
     "text": [
      "\n",
      "The downloaded binary packages are in\n",
      "\tC:\\Users\\nguye\\AppData\\Local\\Temp\\RtmpK0s8OJ\\downloaded_packages\n"
     ]
    }
   ],
   "source": [
    "# Uncomment to install packages if running locally\n",
    "install.packages(\"tidyverse\")\n",
    "install.packages(\"tidymodels\")\n",
    "install.packages(\"dplyr\")"
   ]
  },
  {
   "cell_type": "code",
   "execution_count": 1,
   "id": "582a0c19-85af-49a5-82f4-dcc53c670dc8",
   "metadata": {},
   "outputs": [
    {
     "name": "stderr",
     "output_type": "stream",
     "text": [
      "── \u001b[1mAttaching packages\u001b[22m ────────────────────────────────────────────────────────────────────────────── tidymodels 1.2.0 ──\n",
      "\n",
      "\u001b[32m✔\u001b[39m \u001b[34mbroom       \u001b[39m 1.0.6     \u001b[32m✔\u001b[39m \u001b[34mrecipes     \u001b[39m 1.1.0\n",
      "\u001b[32m✔\u001b[39m \u001b[34mdials       \u001b[39m 1.2.1     \u001b[32m✔\u001b[39m \u001b[34mrsample     \u001b[39m 1.2.1\n",
      "\u001b[32m✔\u001b[39m \u001b[34mdplyr       \u001b[39m 1.1.4     \u001b[32m✔\u001b[39m \u001b[34mtibble      \u001b[39m 3.2.1\n",
      "\u001b[32m✔\u001b[39m \u001b[34mggplot2     \u001b[39m 3.5.1     \u001b[32m✔\u001b[39m \u001b[34mtidyr       \u001b[39m 1.3.1\n",
      "\u001b[32m✔\u001b[39m \u001b[34minfer       \u001b[39m 1.0.7     \u001b[32m✔\u001b[39m \u001b[34mtune        \u001b[39m 1.2.1\n",
      "\u001b[32m✔\u001b[39m \u001b[34mmodeldata   \u001b[39m 1.4.0     \u001b[32m✔\u001b[39m \u001b[34mworkflows   \u001b[39m 1.1.4\n",
      "\u001b[32m✔\u001b[39m \u001b[34mparsnip     \u001b[39m 1.2.1     \u001b[32m✔\u001b[39m \u001b[34mworkflowsets\u001b[39m 1.1.0\n",
      "\u001b[32m✔\u001b[39m \u001b[34mpurrr       \u001b[39m 1.0.2     \u001b[32m✔\u001b[39m \u001b[34myardstick   \u001b[39m 1.3.1\n",
      "\n",
      "── \u001b[1mConflicts\u001b[22m ───────────────────────────────────────────────────────────────────────────────── tidymodels_conflicts() ──\n",
      "\u001b[31m✖\u001b[39m \u001b[34mpurrr\u001b[39m::\u001b[32mdiscard()\u001b[39m masks \u001b[34mscales\u001b[39m::discard()\n",
      "\u001b[31m✖\u001b[39m \u001b[34mdplyr\u001b[39m::\u001b[32mfilter()\u001b[39m  masks \u001b[34mstats\u001b[39m::filter()\n",
      "\u001b[31m✖\u001b[39m \u001b[34mdplyr\u001b[39m::\u001b[32mlag()\u001b[39m     masks \u001b[34mstats\u001b[39m::lag()\n",
      "\u001b[31m✖\u001b[39m \u001b[34mrecipes\u001b[39m::\u001b[32mstep()\u001b[39m  masks \u001b[34mstats\u001b[39m::step()\n",
      "\u001b[34m•\u001b[39m Learn how to get started at \u001b[32mhttps://www.tidymodels.org/start/\u001b[39m\n",
      "\n",
      "── \u001b[1mAttaching core tidyverse packages\u001b[22m ──────────────────────────────────────────────────────────────── tidyverse 2.0.0 ──\n",
      "\u001b[32m✔\u001b[39m \u001b[34mforcats  \u001b[39m 1.0.0     \u001b[32m✔\u001b[39m \u001b[34mreadr    \u001b[39m 2.1.5\n",
      "\u001b[32m✔\u001b[39m \u001b[34mlubridate\u001b[39m 1.9.3     \u001b[32m✔\u001b[39m \u001b[34mstringr  \u001b[39m 1.5.1\n",
      "── \u001b[1mConflicts\u001b[22m ────────────────────────────────────────────────────────────────────────────────── tidyverse_conflicts() ──\n",
      "\u001b[31m✖\u001b[39m \u001b[34mreadr\u001b[39m::\u001b[32mcol_factor()\u001b[39m masks \u001b[34mscales\u001b[39m::col_factor()\n",
      "\u001b[31m✖\u001b[39m \u001b[34mpurrr\u001b[39m::\u001b[32mdiscard()\u001b[39m    masks \u001b[34mscales\u001b[39m::discard()\n",
      "\u001b[31m✖\u001b[39m \u001b[34mdplyr\u001b[39m::\u001b[32mfilter()\u001b[39m     masks \u001b[34mstats\u001b[39m::filter()\n",
      "\u001b[31m✖\u001b[39m \u001b[34mstringr\u001b[39m::\u001b[32mfixed()\u001b[39m    masks \u001b[34mrecipes\u001b[39m::fixed()\n",
      "\u001b[31m✖\u001b[39m \u001b[34mdplyr\u001b[39m::\u001b[32mlag()\u001b[39m        masks \u001b[34mstats\u001b[39m::lag()\n",
      "\u001b[31m✖\u001b[39m \u001b[34mreadr\u001b[39m::\u001b[32mspec()\u001b[39m       masks \u001b[34myardstick\u001b[39m::spec()\n",
      "\u001b[36mℹ\u001b[39m Use the conflicted package (\u001b[3m\u001b[34m<http://conflicted.r-lib.org/>\u001b[39m\u001b[23m) to force all conflicts to become errors\n"
     ]
    }
   ],
   "source": [
    "library(\"tidymodels\")\n",
    "library(\"tidyverse\")\n",
    "library(\"stringr\")\n",
    "library(\"dplyr\")"
   ]
  },
  {
   "cell_type": "markdown",
   "id": "d830b09a-cc28-4488-8b51-1f88deb6abd1",
   "metadata": {},
   "source": [
    "The processed Seoul bike sharing dataset `seoul_bike_sharing_converted_normalized.csv`,  includes the converted indicator variables, and the numerical variables have been normalized. \n",
    "Let's read it as a dataframe first:\n"
   ]
  },
  {
   "cell_type": "code",
   "execution_count": 2,
   "id": "8aadf83c-3955-430c-ae0b-7e064efc2ed2",
   "metadata": {},
   "outputs": [
    {
     "name": "stderr",
     "output_type": "stream",
     "text": [
      "\u001b[1mRows: \u001b[22m\u001b[34m8465\u001b[39m \u001b[1mColumns: \u001b[22m\u001b[34m41\u001b[39m\n",
      "\u001b[36m──\u001b[39m \u001b[1mColumn specification\u001b[22m \u001b[36m────────────────────────────────────────────────────────────────────────────────────────────────\u001b[39m\n",
      "\u001b[1mDelimiter:\u001b[22m \",\"\n",
      "\u001b[31mchr\u001b[39m  (2): DATE, FUNCTIONING_DAY\n",
      "\u001b[32mdbl\u001b[39m (39): RENTED_BIKE_COUNT, TEMPERATURE, HUMIDITY, WIND_SPEED, VISIBILITY, ...\n",
      "\n",
      "\u001b[36mℹ\u001b[39m Use `spec()` to retrieve the full column specification for this data.\n",
      "\u001b[36mℹ\u001b[39m Specify the column types or set `show_col_types = FALSE` to quiet this message.\n"
     ]
    },
    {
     "data": {
      "text/plain": [
       "cols(\n",
       "  DATE = \u001b[31mcol_character()\u001b[39m,\n",
       "  RENTED_BIKE_COUNT = \u001b[32mcol_double()\u001b[39m,\n",
       "  TEMPERATURE = \u001b[32mcol_double()\u001b[39m,\n",
       "  HUMIDITY = \u001b[32mcol_double()\u001b[39m,\n",
       "  WIND_SPEED = \u001b[32mcol_double()\u001b[39m,\n",
       "  VISIBILITY = \u001b[32mcol_double()\u001b[39m,\n",
       "  DEW_POINT_TEMPERATURE = \u001b[32mcol_double()\u001b[39m,\n",
       "  SOLAR_RADIATION = \u001b[32mcol_double()\u001b[39m,\n",
       "  RAINFALL = \u001b[32mcol_double()\u001b[39m,\n",
       "  SNOWFALL = \u001b[32mcol_double()\u001b[39m,\n",
       "  FUNCTIONING_DAY = \u001b[31mcol_character()\u001b[39m,\n",
       "  `0` = \u001b[32mcol_double()\u001b[39m,\n",
       "  `1` = \u001b[32mcol_double()\u001b[39m,\n",
       "  `10` = \u001b[32mcol_double()\u001b[39m,\n",
       "  `11` = \u001b[32mcol_double()\u001b[39m,\n",
       "  `12` = \u001b[32mcol_double()\u001b[39m,\n",
       "  `13` = \u001b[32mcol_double()\u001b[39m,\n",
       "  `14` = \u001b[32mcol_double()\u001b[39m,\n",
       "  `15` = \u001b[32mcol_double()\u001b[39m,\n",
       "  `16` = \u001b[32mcol_double()\u001b[39m,\n",
       "  `17` = \u001b[32mcol_double()\u001b[39m,\n",
       "  `18` = \u001b[32mcol_double()\u001b[39m,\n",
       "  `19` = \u001b[32mcol_double()\u001b[39m,\n",
       "  `2` = \u001b[32mcol_double()\u001b[39m,\n",
       "  `20` = \u001b[32mcol_double()\u001b[39m,\n",
       "  `21` = \u001b[32mcol_double()\u001b[39m,\n",
       "  `22` = \u001b[32mcol_double()\u001b[39m,\n",
       "  `23` = \u001b[32mcol_double()\u001b[39m,\n",
       "  `3` = \u001b[32mcol_double()\u001b[39m,\n",
       "  `4` = \u001b[32mcol_double()\u001b[39m,\n",
       "  `5` = \u001b[32mcol_double()\u001b[39m,\n",
       "  `6` = \u001b[32mcol_double()\u001b[39m,\n",
       "  `7` = \u001b[32mcol_double()\u001b[39m,\n",
       "  `8` = \u001b[32mcol_double()\u001b[39m,\n",
       "  `9` = \u001b[32mcol_double()\u001b[39m,\n",
       "  AUTUMN = \u001b[32mcol_double()\u001b[39m,\n",
       "  SPRING = \u001b[32mcol_double()\u001b[39m,\n",
       "  SUMMER = \u001b[32mcol_double()\u001b[39m,\n",
       "  WINTER = \u001b[32mcol_double()\u001b[39m,\n",
       "  HOLIDAY = \u001b[32mcol_double()\u001b[39m,\n",
       "  NO_HOLIDAY = \u001b[32mcol_double()\u001b[39m\n",
       ")"
      ]
     },
     "metadata": {},
     "output_type": "display_data"
    }
   ],
   "source": [
    "# Dataset URL\n",
    "dataset_url <- \"https://cf-courses-data.s3.us.cloud-object-storage.appdomain.cloud/IBMDeveloperSkillsNetwork-RP0321EN-SkillsNetwork/labs/datasets/seoul_bike_sharing_converted_normalized.csv\"\n",
    "bike_sharing_df <- read_csv(dataset_url)\n",
    "spec(bike_sharing_df)"
   ]
  },
  {
   "cell_type": "markdown",
   "id": "d8524324-155f-4656-9d7e-fc39090ed6aa",
   "metadata": {},
   "source": [
    "We won't be using the `DATE` column, because 'as is', it basically acts like an data entry index. (However, given more time, we could use the `DATE` colum to create a 'day of week' or 'isWeekend' column, which we might expect has an affect on preferred bike rental times.) We also do not need the `FUNCTIONAL DAY` column because it only has one distinct value remaining (`YES`) after missing value processing.\n"
   ]
  },
  {
   "cell_type": "code",
   "execution_count": 3,
   "id": "ee8725ad-e66a-4b55-8306-0d77f6be8108",
   "metadata": {},
   "outputs": [],
   "source": [
    "bike_sharing_df <- bike_sharing_df %>% \n",
    "                   select(-DATE, -FUNCTIONING_DAY)"
   ]
  },
  {
   "cell_type": "markdown",
   "id": "a96505ce-5532-46ed-afe4-a7200bcbcb54",
   "metadata": {},
   "source": [
    "Define a linear regression model specification.\n"
   ]
  },
  {
   "cell_type": "code",
   "execution_count": 4,
   "id": "fb803541-0920-41d8-bf6d-74f2bbf71db0",
   "metadata": {},
   "outputs": [],
   "source": [
    "lm_spec <- linear_reg() %>%\n",
    "  set_engine(\"lm\") %>% \n",
    "  set_mode(\"regression\")"
   ]
  },
  {
   "cell_type": "markdown",
   "id": "ab965f91-3d5b-4286-ad82-b170fb673811",
   "metadata": {},
   "source": [
    "Split the data into training and testing datasets.\n"
   ]
  },
  {
   "cell_type": "code",
   "execution_count": 5,
   "id": "6c229e36-e59a-4b61-b01a-68df2c124c8b",
   "metadata": {},
   "outputs": [],
   "source": [
    "set.seed(1234)\n",
    "data_split <- initial_split(bike_sharing_df, prop = 4/5)\n",
    "train_data <- training(data_split)\n",
    "test_data <- testing(data_split)"
   ]
  },
  {
   "cell_type": "markdown",
   "id": "7417561d-1b33-410b-a928-f7b909352fd5",
   "metadata": {},
   "source": [
    "Now we are ready to refine the previous baseline regression model.\n"
   ]
  },
  {
   "cell_type": "markdown",
   "id": "c9eb9bc0-92b6-412f-9094-90e0c0668af6",
   "metadata": {},
   "source": [
    "# TASK: Add polynomial terms\n"
   ]
  },
  {
   "cell_type": "markdown",
   "id": "2cdec35c-7952-41ff-a5c6-d125e554fb0f",
   "metadata": {},
   "source": [
    "Linear regression models are the most suitable models to capture the linear correlations among variables. However, in real world data, many relationships may be non-linear.\n"
   ]
  },
  {
   "cell_type": "markdown",
   "id": "a34e3604-e2fd-4fe0-bd61-9d7e13967a62",
   "metadata": {},
   "source": [
    "For example, the correlation between `RENTED_BIKE_COUNT` and `TEMPERATURE` does not look like linear:\n"
   ]
  },
  {
   "cell_type": "code",
   "execution_count": 6,
   "id": "7b981632-631b-41b5-b42c-76f636ea3c7b",
   "metadata": {},
   "outputs": [
    {
     "data": {
      "image/png": "[encoded data removed]",
      "text/plain": [
       "plot without title"
      ]
     },
     "metadata": {
      "image/png": {
       "height": 420,
       "width": 420
      }
     },
     "output_type": "display_data"
    }
   ],
   "source": [
    "ggplot(data = train_data, aes(RENTED_BIKE_COUNT, TEMPERATURE)) + \n",
    "    geom_point() "
   ]
  },
  {
   "cell_type": "raw",
   "id": "44accf32-38c5-4fbe-8522-c2579bda2851",
   "metadata": {},
   "source": [
    "One solution to handle such nonlinearity is using polynomial regression by adding polynomial terms. As shown before, higher order polynomials are better than the first order polynomial.  "
   ]
  },
  {
   "cell_type": "code",
   "execution_count": 8,
   "id": "ccad6858-9015-4aa2-a20e-65af8b22677a",
   "metadata": {},
   "outputs": [
    {
     "data": {
      "image/png": "[encoded data removed]",
      "text/plain": [
       "plot without title"
      ]
     },
     "metadata": {
      "image/png": {
       "height": 420,
       "width": 420
      }
     },
     "output_type": "display_data"
    }
   ],
   "source": [
    "# Plot the higher order polynomial fits\n",
    "ggplot(data=train_data, aes(RENTED_BIKE_COUNT, TEMPERATURE)) + \n",
    "    geom_point() + \n",
    "    geom_smooth(method = \"lm\", formula = y ~ x, color=\"red\") + \n",
    "    geom_smooth(method = \"lm\", formula = y ~ poly(x, 2), color=\"yellow\") + \n",
    "    geom_smooth(method = \"lm\", formula = y ~ poly(x, 4), color=\"green\") + \n",
    "    geom_smooth(method = \"lm\", formula = y ~ poly(x, 6), color=\"blue\")"
   ]
  },
  {
   "cell_type": "markdown",
   "id": "a1f8b020-dd53-47fb-adb3-387215a4c0cd",
   "metadata": {},
   "source": [
    "OK, let's add some higher order polynomials of important variables to the regression models\n"
   ]
  },
  {
   "cell_type": "markdown",
   "id": "e3efc0a1-7d97-43b5-8c15-76925f6157d8",
   "metadata": {},
   "source": [
    "_TODO:_ Fit a linear regression model `lm_poly` with higher order polynomial terms on the important variables (larger coefficients) found in the baseline model\n"
   ]
  },
  {
   "cell_type": "code",
   "execution_count": 19,
   "id": "6ab77e4d-13ee-4708-a7c9-c78d344f9795",
   "metadata": {},
   "outputs": [],
   "source": [
    "# Fit a linear model with higher order polynomial on some important variables \n",
    "\n",
    "# #HINT: Use ploy function to build polynomial terms, lm_poly <- RENTED_BIKE_COUNT ~ poly(TEMPERATURE, 6) + poly(HUMIDITY, 4) .....\n",
    "lm_poly <- lm_spec %>%\n",
    "    fit(RENTED_BIKE_COUNT ~ poly(TEMPERATURE, 6) + poly(HUMIDITY, 4), data = train_data)\n"
   ]
  },
  {
   "cell_type": "code",
   "execution_count": 20,
   "id": "861568ae-fcf4-4780-b046-34247e260922",
   "metadata": {},
   "outputs": [
    {
     "data": {
      "text/plain": [
       "\n",
       "Call:\n",
       "stats::lm(formula = RENTED_BIKE_COUNT ~ poly(TEMPERATURE, 6) + \n",
       "    poly(HUMIDITY, 4), data = data)\n",
       "\n",
       "Residuals:\n",
       "     Min       1Q   Median       3Q      Max \n",
       "-1245.78  -274.23   -65.78   196.92  2235.30 \n",
       "\n",
       "Coefficients:\n",
       "                        Estimate Std. Error t value Pr(>|t|)    \n",
       "(Intercept)              734.851      5.638 130.342  < 2e-16 ***\n",
       "poly(TEMPERATURE, 6)1  32253.862    474.024  68.043  < 2e-16 ***\n",
       "poly(TEMPERATURE, 6)2  -6660.888    483.679 -13.771  < 2e-16 ***\n",
       "poly(TEMPERATURE, 6)3  -9542.107    466.020 -20.476  < 2e-16 ***\n",
       "poly(TEMPERATURE, 6)4  -2896.966    465.870  -6.218 5.32e-10 ***\n",
       "poly(TEMPERATURE, 6)5   -528.619    468.112  -1.129    0.259    \n",
       "poly(TEMPERATURE, 6)6    718.200    469.460   1.530    0.126    \n",
       "poly(HUMIDITY, 4)1    -18199.566    486.400 -37.417  < 2e-16 ***\n",
       "poly(HUMIDITY, 4)2    -10197.773    473.402 -21.541  < 2e-16 ***\n",
       "poly(HUMIDITY, 4)3      -421.778    470.084  -0.897    0.370    \n",
       "poly(HUMIDITY, 4)4     -2285.086    469.251  -4.870 1.14e-06 ***\n",
       "---\n",
       "Signif. codes:  0 '***' 0.001 '**' 0.01 '*' 0.05 '.' 0.1 ' ' 1\n",
       "\n",
       "Residual standard error: 464 on 6761 degrees of freedom\n",
       "Multiple R-squared:  0.4827,\tAdjusted R-squared:  0.4819 \n",
       "F-statistic: 630.8 on 10 and 6761 DF,  p-value: < 2.2e-16\n"
      ]
     },
     "metadata": {},
     "output_type": "display_data"
    }
   ],
   "source": [
    "# Print model summary\n",
    "\n",
    "summary(lm_poly$fit)"
   ]
  },
  {
   "cell_type": "code",
   "execution_count": 21,
   "metadata": {},
   "outputs": [
    {
     "data": {
      "text/plain": [
       "$lvl\n",
       "NULL\n",
       "\n",
       "$spec\n",
       "Linear Regression Model Specification (regression)\n",
       "\n",
       "Computational engine: lm \n",
       "\n",
       "Model fit template:\n",
       "stats::lm(formula = missing_arg(), data = missing_arg(), weights = missing_arg())\n",
       "\n",
       "$fit\n",
       "\n",
       "Call:\n",
       "stats::lm(formula = RENTED_BIKE_COUNT ~ poly(TEMPERATURE, 6) + \n",
       "    poly(HUMIDITY, 4), data = data)\n",
       "\n",
       "Coefficients:\n",
       "          (Intercept)  poly(TEMPERATURE, 6)1  poly(TEMPERATURE, 6)2  \n",
       "                734.9                32253.9                -6660.9  \n",
       "poly(TEMPERATURE, 6)3  poly(TEMPERATURE, 6)4  poly(TEMPERATURE, 6)5  \n",
       "              -9542.1                -2897.0                 -528.6  \n",
       "poly(TEMPERATURE, 6)6     poly(HUMIDITY, 4)1     poly(HUMIDITY, 4)2  \n",
       "                718.2               -18199.6               -10197.8  \n",
       "   poly(HUMIDITY, 4)3     poly(HUMIDITY, 4)4  \n",
       "               -421.8                -2285.1  \n",
       "\n",
       "\n",
       "$preproc\n",
       "$preproc$y_var\n",
       "[1] \"RENTED_BIKE_COUNT\"\n",
       "\n",
       "\n",
       "$elapsed\n",
       "$elapsed$elapsed\n",
       "[1] NA\n",
       "\n",
       "\n",
       "$censor_probs\n",
       "list()\n"
      ]
     },
     "metadata": {},
     "output_type": "display_data"
    }
   ],
   "source": [
    "head(lm_poly)"
   ]
  },
  {
   "cell_type": "markdown",
   "id": "2e4c5fa8-2dd3-4dd0-ab52-11ded337efd8",
   "metadata": {},
   "source": [
    "_TODO:_ Make predictions on test dataset using the `lm_poly` models\n"
   ]
  },
  {
   "cell_type": "code",
   "execution_count": 22,
   "id": "40136e0f-c295-4a89-a2f4-b26281088a8b",
   "metadata": {},
   "outputs": [],
   "source": [
    "# Use predict() function to generate test results for `lm_poly`\n",
    "lm_poly_results <- lm_poly %>%\n",
    "    predict(new_data = train_data) %>%\n",
    "    mutate(truth = train_data$RENTED_BIKE_COUNT)\n",
    "\n",
    "test_results <- lm_poly %>%\n",
    "    predict(new_data = test_data) %>%\n",
    "    mutate(truth = test_data$RENTED_BIKE_COUNT)\n"
   ]
  },
  {
   "cell_type": "markdown",
   "id": "20577ea1-c91e-4daf-8369-e192aca1dfff",
   "metadata": {},
   "source": [
    "Another minor improvement we could do here is to convert all negative prediction results to zero, because we can not have negative rented bike counts\n"
   ]
  },
  {
   "cell_type": "code",
   "execution_count": 23,
   "id": "0288c31f-4594-4097-b40b-382ee4329640",
   "metadata": {},
   "outputs": [],
   "source": [
    "# e.g., test_results[test_results<0] <- 0\n",
    "test_results[test_results<0] <- 0"
   ]
  },
  {
   "cell_type": "markdown",
   "id": "5edafa3d-747e-4dc3-847c-c07ba3b72455",
   "metadata": {},
   "source": [
    "Now, calculate R-squared and RMSE for the test results generated by `lm_ploy` model\n"
   ]
  },
  {
   "cell_type": "code",
   "execution_count": 24,
   "id": "82f0a186-777b-445f-a0f7-f7720fa82a39",
   "metadata": {},
   "outputs": [
    {
     "data": {
      "text/html": [
       "1.62290805753122e-12"
      ],
      "text/latex": [
       "1.62290805753122e-12"
      ],
      "text/markdown": [
       "1.62290805753122e-12"
      ],
      "text/plain": [
       "[1] 1.622908e-12"
      ]
     },
     "metadata": {},
     "output_type": "display_data"
    },
    {
     "data": {
      "text/html": [
       "<table class=\"dataframe\">\n",
       "<caption>A tibble: 1 × 3</caption>\n",
       "<thead>\n",
       "\t<tr><th scope=col>.metric</th><th scope=col>.estimator</th><th scope=col>.estimate</th></tr>\n",
       "\t<tr><th scope=col>&lt;chr&gt;</th><th scope=col>&lt;chr&gt;</th><th scope=col>&lt;dbl&gt;</th></tr>\n",
       "</thead>\n",
       "<tbody>\n",
       "\t<tr><td>rsq</td><td>standard</td><td>0.4826719</td></tr>\n",
       "</tbody>\n",
       "</table>\n"
      ],
      "text/latex": [
       "A tibble: 1 × 3\n",
       "\\begin{tabular}{lll}\n",
       " .metric & .estimator & .estimate\\\\\n",
       " <chr> & <chr> & <dbl>\\\\\n",
       "\\hline\n",
       "\t rsq & standard & 0.4826719\\\\\n",
       "\\end{tabular}\n"
      ],
      "text/markdown": [
       "\n",
       "A tibble: 1 × 3\n",
       "\n",
       "| .metric &lt;chr&gt; | .estimator &lt;chr&gt; | .estimate &lt;dbl&gt; |\n",
       "|---|---|---|\n",
       "| rsq | standard | 0.4826719 |\n",
       "\n"
      ],
      "text/plain": [
       "  .metric .estimator .estimate\n",
       "1 rsq     standard   0.4826719"
      ]
     },
     "metadata": {},
     "output_type": "display_data"
    }
   ],
   "source": [
    "# Calculate R-squared and RMSE from the test results\n",
    "rmse_poly <- sqrt(mean(lm_poly_results$truth - lm_poly_results$.pred)^2)\n",
    "rsq_poly <- rsq(lm_poly_results, truth = truth, estimate = .pred)\n",
    "\n",
    "rmse_poly\n",
    "rsq_poly"
   ]
  },
  {
   "cell_type": "markdown",
   "id": "118e374e-d240-4383-ae20-9d808e987830",
   "metadata": {},
   "source": [
    "If you include all variables, and additionally include some of the more important ones as higher order poly terms, then you should notice improved  `R-squared` and `RMSE` values.\n"
   ]
  },
  {
   "cell_type": "markdown",
   "id": "9fba9eb3-2cdf-4700-9aa5-ccdbb7374328",
   "metadata": {},
   "source": [
    "# TASK: Add interaction terms\n"
   ]
  },
  {
   "cell_type": "markdown",
   "id": "9882dced-0cee-4260-bec1-f4f1163babd9",
   "metadata": {},
   "source": [
    "In real-world scenarios, in addition to non-linear relationships between response variables and predictor variables, you may also encounter relationships among variables called `interaction effects`.\n",
    "\n",
    "For example, the effect of predictor variable `TEMPERATURE` on `RENTED_BIKE_COUNT` may also depend on other variables such as `HUMIDITY`, `RAINFALL`, or both (they `interact`) and the effect of `SEASON` on `RENTED_BIKE_COUNT` may also depend on `HOLIDAY`, `HOUR`, or both.\n",
    "\n",
    "To capture such interaction effects, we could add some interaction terms such as `RAINFALL*HUMIDITY` to the regression model, similar to what we did with polynominal terms. In this task, you will explore and conduct some experiments to search for interaction terms which will improve the model performance.\n"
   ]
  },
  {
   "cell_type": "markdown",
   "id": "92bba39c-b9d3-4128-bde9-a485db1e0bb1",
   "metadata": {},
   "source": [
    "_TODO:_ Try adding some interaction terms to the previous polynomial models.\n"
   ]
  },
  {
   "cell_type": "code",
   "execution_count": 25,
   "id": "d4b69954-e323-45f7-9110-23e6363161ce",
   "metadata": {},
   "outputs": [],
   "source": [
    "# Add interaction terms to the poly regression built in previous step\n",
    "\n",
    "# HINT: You could use `*` operator to create interaction terms such as HUMIDITY*TEMPERATURE and make the formula look like:\n",
    "# RENTED_BIKE_COUNT ~ RAINFALL*HUMIDITY ...\n",
    "lm_interactive <- lm_spec %>%\n",
    "    fit(RENTED_BIKE_COUNT ~ RAINFALL*HUMIDITY, data = train_data)\n",
    "\n",
    "    "
   ]
  },
  {
   "cell_type": "code",
   "execution_count": 26,
   "id": "a15d4843-099d-42f8-8553-c9a7efe57d62",
   "metadata": {},
   "outputs": [
    {
     "data": {
      "text/plain": [
       "             Length Class      Mode\n",
       "lvl           0     -none-     NULL\n",
       "spec          7     linear_reg list\n",
       "fit          12     lm         list\n",
       "preproc       1     -none-     list\n",
       "elapsed       1     -none-     list\n",
       "censor_probs  0     -none-     list"
      ]
     },
     "metadata": {},
     "output_type": "display_data"
    }
   ],
   "source": [
    "# Print model summary\n",
    "summary(lm_interactive)"
   ]
  },
  {
   "cell_type": "code",
   "execution_count": 27,
   "id": "18d7091a-1a4f-4195-aa80-a9c251a4c9f9",
   "metadata": {},
   "outputs": [
    {
     "name": "stdout",
     "output_type": "stream",
     "text": [
      "[1] \"R-squared and RMSE of train_data \"\n"
     ]
    },
    {
     "data": {
      "text/html": [
       "3.85594403915964e-13"
      ],
      "text/latex": [
       "3.85594403915964e-13"
      ],
      "text/markdown": [
       "3.85594403915964e-13"
      ],
      "text/plain": [
       "[1] 3.855944e-13"
      ]
     },
     "metadata": {},
     "output_type": "display_data"
    },
    {
     "data": {
      "text/html": [
       "<table class=\"dataframe\">\n",
       "<caption>A tibble: 1 × 3</caption>\n",
       "<thead>\n",
       "\t<tr><th scope=col>.metric</th><th scope=col>.estimator</th><th scope=col>.estimate</th></tr>\n",
       "\t<tr><th scope=col>&lt;chr&gt;</th><th scope=col>&lt;chr&gt;</th><th scope=col>&lt;dbl&gt;</th></tr>\n",
       "</thead>\n",
       "<tbody>\n",
       "\t<tr><td>rsq</td><td>standard</td><td>0.04984034</td></tr>\n",
       "</tbody>\n",
       "</table>\n"
      ],
      "text/latex": [
       "A tibble: 1 × 3\n",
       "\\begin{tabular}{lll}\n",
       " .metric & .estimator & .estimate\\\\\n",
       " <chr> & <chr> & <dbl>\\\\\n",
       "\\hline\n",
       "\t rsq & standard & 0.04984034\\\\\n",
       "\\end{tabular}\n"
      ],
      "text/markdown": [
       "\n",
       "A tibble: 1 × 3\n",
       "\n",
       "| .metric &lt;chr&gt; | .estimator &lt;chr&gt; | .estimate &lt;dbl&gt; |\n",
       "|---|---|---|\n",
       "| rsq | standard | 0.04984034 |\n",
       "\n"
      ],
      "text/plain": [
       "  .metric .estimator .estimate \n",
       "1 rsq     standard   0.04984034"
      ]
     },
     "metadata": {},
     "output_type": "display_data"
    },
    {
     "name": "stdout",
     "output_type": "stream",
     "text": [
      "[1] \"R-squared and RMSE of test_data \"\n"
     ]
    },
    {
     "data": {
      "text/html": [
       "4.56526343479918"
      ],
      "text/latex": [
       "4.56526343479918"
      ],
      "text/markdown": [
       "4.56526343479918"
      ],
      "text/plain": [
       "[1] 4.565263"
      ]
     },
     "metadata": {},
     "output_type": "display_data"
    },
    {
     "data": {
      "text/html": [
       "<table class=\"dataframe\">\n",
       "<caption>A tibble: 1 × 3</caption>\n",
       "<thead>\n",
       "\t<tr><th scope=col>.metric</th><th scope=col>.estimator</th><th scope=col>.estimate</th></tr>\n",
       "\t<tr><th scope=col>&lt;chr&gt;</th><th scope=col>&lt;chr&gt;</th><th scope=col>&lt;dbl&gt;</th></tr>\n",
       "</thead>\n",
       "<tbody>\n",
       "\t<tr><td>rsq</td><td>standard</td><td>0.0484588</td></tr>\n",
       "</tbody>\n",
       "</table>\n"
      ],
      "text/latex": [
       "A tibble: 1 × 3\n",
       "\\begin{tabular}{lll}\n",
       " .metric & .estimator & .estimate\\\\\n",
       " <chr> & <chr> & <dbl>\\\\\n",
       "\\hline\n",
       "\t rsq & standard & 0.0484588\\\\\n",
       "\\end{tabular}\n"
      ],
      "text/markdown": [
       "\n",
       "A tibble: 1 × 3\n",
       "\n",
       "| .metric &lt;chr&gt; | .estimator &lt;chr&gt; | .estimate &lt;dbl&gt; |\n",
       "|---|---|---|\n",
       "| rsq | standard | 0.0484588 |\n",
       "\n"
      ],
      "text/plain": [
       "  .metric .estimator .estimate\n",
       "1 rsq     standard   0.0484588"
      ]
     },
     "metadata": {},
     "output_type": "display_data"
    }
   ],
   "source": [
    "# Calculate R-squared and RMSE for the new model to see if performance has improved\n",
    "#predict the model\n",
    "lm_interactive_train_results <- lm_interactive %>%\n",
    "    predict(new_data = train_data) %>%\n",
    "    mutate(truth = train_data$RENTED_BIKE_COUNT)\n",
    "\n",
    "lm_interactive_test_results <- lm_interactive %>%\n",
    "    predict(new_data = test_data) %>%\n",
    "    mutate(truth = test_data$RENTED_BIKE_COUNT)\n",
    "\n",
    "# Calculate R-squared and RMSE for the new model\n",
    "rmse_train_interactive <- sqrt(mean(lm_interactive_train_results$.pred - lm_interactive_train_results$truth)^2)\n",
    "rsq_train_interactive <- rsq(lm_interactive_train_results, truth = truth, estimate = .pred)\n",
    "\n",
    "rmse_test_interactive <- sqrt(mean(lm_interactive_test_results$.pred - lm_interactive_train_results$truth)^2)\n",
    "rsq_test_interactive <- rsq(lm_interactive_test_results, truth = truth, estimate = .pred)\n",
    "print(\"R-squared and RMSE of train_data \")\n",
    "rmse_train_interactive\n",
    "rsq_train_interactive\n",
    "print(\"R-squared and RMSE of test_data \")\n",
    "rmse_test_interactive\n",
    "rsq_test_interactive"
   ]
  },
  {
   "cell_type": "markdown",
   "id": "735db9bd-8de3-4810-8f7e-801dccadd62f",
   "metadata": {},
   "source": [
    "# TASK: Add regularization\n"
   ]
  },
  {
   "cell_type": "markdown",
   "id": "c399c271-7313-4377-a719-623778846850",
   "metadata": {},
   "source": [
    "In previous tasks, you were asked to add polynominal and interaction terms to the model, aiming to capture nonlinearity and interaction effects between the predictor variables. Hopefully, your updated models have better R-squared and RMSE values.\n",
    "\n",
    "However, adding these terms makes your model more complicated, more difficult to explain, and more likely to suffer from overfitting. To overcome these issues, one solution is to add regularization terms to your models.\n"
   ]
  },
  {
   "cell_type": "markdown",
   "id": "5c430082-9b88-4ae8-a421-0de2b7e7e396",
   "metadata": {},
   "source": [
    "When building the baseline model, we used the basic `lm` engine. In this task, you will use a more advanced and generalized `glmnet` engine. It provides a generalized linear model with Lasso, Ridge, and Elastic Net regularizations.\n",
    "\n",
    "In general, using `glmnet` can enhance your models in the following ways:\n",
    "- Address overfitting issues by shrinking the coefficients\n",
    "- Address predictor variable colinearity by selecting only one variable from each group of colinear variables (by shrinking their coefficients to zero)\n",
    "- Make your models more interpretable due to simplification (fewer variables in the outcome models)\n"
   ]
  },
  {
   "cell_type": "markdown",
   "id": "c60adf2d-8146-46e0-8da3-5259e9172a12",
   "metadata": {},
   "source": [
    "Now, let's switch our regression engine to `glmnet`\n"
   ]
  },
  {
   "cell_type": "markdown",
   "id": "b31548fe-1406-4828-b558-654cf0bebf3b",
   "metadata": {},
   "source": [
    "_TODO:_ Define a linear regression model specification `glmnet_spec` using `glmnet` engine\n"
   ]
  },
  {
   "cell_type": "code",
   "execution_count": 11,
   "id": "9399fcc6-e248-45c2-a362-475605adff9d",
   "metadata": {},
   "outputs": [],
   "source": [
    "# HINT: Use linear_reg() function with two parameters: penalty and mixture\n",
    "# - penalty controls the intensity of model regularization\n",
    "# - mixture controls the tradeoff between L1 and L2 regularizations\n",
    "\n",
    "# You could manually try different parameter combinations or use grid search to find optimal combinations\n",
    "ridge_spec <- linear_reg(penalty = 0.1, mixture = 0) %>%\n",
    "  set_engine(\"glmnet\")\n",
    "\n",
    "lasso_spec <- linear_reg(penalty = 0.1, mixture = 1) %>%\n",
    "  set_engine(\"glmnet\")"
   ]
  },
  {
   "cell_type": "markdown",
   "id": "160ca814-3767-4a27-9a6d-ab2b0b758b4b",
   "metadata": {},
   "source": [
    "Fit a glmnet model called  `lm_glmnet` using the `fit()` function. For the formula part, keep the polynominal and interaction terms you used in the previous task.\n"
   ]
  },
  {
   "cell_type": "code",
   "execution_count": 12,
   "id": "fec4b10a-ef77-4d75-8f37-02e164557048",
   "metadata": {},
   "outputs": [
    {
     "name": "stderr",
     "output_type": "stream",
     "text": [
      "Installing package into 'C:/Users/nguye/AppData/Local/R/win-library/4.4'\n",
      "(as 'lib' is unspecified)\n",
      "\n"
     ]
    },
    {
     "name": "stdout",
     "output_type": "stream",
     "text": [
      "package 'glmnet' successfully unpacked and MD5 sums checked\n",
      "\n",
      "The downloaded binary packages are in\n",
      "\tC:\\Users\\nguye\\AppData\\Local\\Temp\\Rtmpor2veK\\downloaded_packages\n"
     ]
    }
   ],
   "source": [
    "install.packages('glmnet')\n"
   ]
  },
  {
   "cell_type": "code",
   "execution_count": 13,
   "id": "70f1f372-49a5-4bd2-982e-be469229baed",
   "metadata": {},
   "outputs": [
    {
     "name": "stderr",
     "output_type": "stream",
     "text": [
      "Loading required package: Matrix\n",
      "\n",
      "\n",
      "Attaching package: 'Matrix'\n",
      "\n",
      "\n",
      "The following objects are masked from 'package:tidyr':\n",
      "\n",
      "    expand, pack, unpack\n",
      "\n",
      "\n",
      "Loaded glmnet 4.1-8\n",
      "\n"
     ]
    }
   ],
   "source": [
    "library('glmnet')"
   ]
  },
  {
   "cell_type": "code",
   "execution_count": 14,
   "id": "8f0baaf6-6354-44d3-8c00-8684f0c7117b",
   "metadata": {},
   "outputs": [
    {
     "name": "stderr",
     "output_type": "stream",
     "text": [
      "Warning message:\n",
      "\"\u001b[1m\u001b[22m`pull_workflow_fit()` was deprecated in workflows 0.2.3.\n",
      "\u001b[36mℹ\u001b[39m Please use `extract_fit_parsnip()` instead.\"\n"
     ]
    },
    {
     "data": {
      "text/html": [
       "<table class=\"dataframe\">\n",
       "<caption>A tibble: 39 × 3</caption>\n",
       "<thead>\n",
       "\t<tr><th scope=col>term</th><th scope=col>estimate</th><th scope=col>penalty</th></tr>\n",
       "\t<tr><th scope=col>&lt;chr&gt;</th><th scope=col>&lt;dbl&gt;</th><th scope=col>&lt;dbl&gt;</th></tr>\n",
       "</thead>\n",
       "<tbody>\n",
       "\t<tr><td>(Intercept)          </td><td>  342.31488</td><td>0.1</td></tr>\n",
       "\t<tr><td>TEMPERATURE          </td><td>  831.84024</td><td>0.1</td></tr>\n",
       "\t<tr><td>HUMIDITY             </td><td> -721.91395</td><td>0.1</td></tr>\n",
       "\t<tr><td>WIND_SPEED           </td><td>   24.75312</td><td>0.1</td></tr>\n",
       "\t<tr><td>VISIBILITY           </td><td>   50.42041</td><td>0.1</td></tr>\n",
       "\t<tr><td>DEW_POINT_TEMPERATURE</td><td>  416.03003</td><td>0.1</td></tr>\n",
       "\t<tr><td>SOLAR_RADIATION      </td><td>  241.21443</td><td>0.1</td></tr>\n",
       "\t<tr><td>RAINFALL             </td><td>-2068.21240</td><td>0.1</td></tr>\n",
       "\t<tr><td>SNOWFALL             </td><td>  129.48708</td><td>0.1</td></tr>\n",
       "\t<tr><td>0                    </td><td>  -62.71701</td><td>0.1</td></tr>\n",
       "\t<tr><td>1                    </td><td> -162.47987</td><td>0.1</td></tr>\n",
       "\t<tr><td>10                   </td><td> -240.85950</td><td>0.1</td></tr>\n",
       "\t<tr><td>11                   </td><td> -245.06731</td><td>0.1</td></tr>\n",
       "\t<tr><td>12                   </td><td> -198.46185</td><td>0.1</td></tr>\n",
       "\t<tr><td>13                   </td><td> -178.38188</td><td>0.1</td></tr>\n",
       "\t<tr><td>14                   </td><td> -187.05610</td><td>0.1</td></tr>\n",
       "\t<tr><td>15                   </td><td> -113.90807</td><td>0.1</td></tr>\n",
       "\t<tr><td>16                   </td><td>   10.18360</td><td>0.1</td></tr>\n",
       "\t<tr><td>17                   </td><td>  280.25590</td><td>0.1</td></tr>\n",
       "\t<tr><td>18                   </td><td>  725.29135</td><td>0.1</td></tr>\n",
       "\t<tr><td>19                   </td><td>  466.31445</td><td>0.1</td></tr>\n",
       "\t<tr><td>2                    </td><td> -269.88715</td><td>0.1</td></tr>\n",
       "\t<tr><td>20                   </td><td>  381.75848</td><td>0.1</td></tr>\n",
       "\t<tr><td>21                   </td><td>  390.35834</td><td>0.1</td></tr>\n",
       "\t<tr><td>22                   </td><td>  281.28178</td><td>0.1</td></tr>\n",
       "\t<tr><td>23                   </td><td>   53.45449</td><td>0.1</td></tr>\n",
       "\t<tr><td>3                    </td><td> -349.70762</td><td>0.1</td></tr>\n",
       "\t<tr><td>4                    </td><td> -410.52692</td><td>0.1</td></tr>\n",
       "\t<tr><td>5                    </td><td> -392.20969</td><td>0.1</td></tr>\n",
       "\t<tr><td>6                    </td><td> -245.42084</td><td>0.1</td></tr>\n",
       "\t<tr><td>7                    </td><td>   59.64947</td><td>0.1</td></tr>\n",
       "\t<tr><td>8                    </td><td>  392.32308</td><td>0.1</td></tr>\n",
       "\t<tr><td>9                    </td><td>  -27.78471</td><td>0.1</td></tr>\n",
       "\t<tr><td>AUTUMN               </td><td>  166.37368</td><td>0.1</td></tr>\n",
       "\t<tr><td>SPRING               </td><td>   10.87571</td><td>0.1</td></tr>\n",
       "\t<tr><td>SUMMER               </td><td>   33.30881</td><td>0.1</td></tr>\n",
       "\t<tr><td>WINTER               </td><td> -202.06600</td><td>0.1</td></tr>\n",
       "\t<tr><td>HOLIDAY              </td><td>  -59.17195</td><td>0.1</td></tr>\n",
       "\t<tr><td>NO_HOLIDAY           </td><td>   58.48612</td><td>0.1</td></tr>\n",
       "</tbody>\n",
       "</table>\n"
      ],
      "text/latex": [
       "A tibble: 39 × 3\n",
       "\\begin{tabular}{lll}\n",
       " term & estimate & penalty\\\\\n",
       " <chr> & <dbl> & <dbl>\\\\\n",
       "\\hline\n",
       "\t (Intercept)           &   342.31488 & 0.1\\\\\n",
       "\t TEMPERATURE           &   831.84024 & 0.1\\\\\n",
       "\t HUMIDITY              &  -721.91395 & 0.1\\\\\n",
       "\t WIND\\_SPEED            &    24.75312 & 0.1\\\\\n",
       "\t VISIBILITY            &    50.42041 & 0.1\\\\\n",
       "\t DEW\\_POINT\\_TEMPERATURE &   416.03003 & 0.1\\\\\n",
       "\t SOLAR\\_RADIATION       &   241.21443 & 0.1\\\\\n",
       "\t RAINFALL              & -2068.21240 & 0.1\\\\\n",
       "\t SNOWFALL              &   129.48708 & 0.1\\\\\n",
       "\t 0                     &   -62.71701 & 0.1\\\\\n",
       "\t 1                     &  -162.47987 & 0.1\\\\\n",
       "\t 10                    &  -240.85950 & 0.1\\\\\n",
       "\t 11                    &  -245.06731 & 0.1\\\\\n",
       "\t 12                    &  -198.46185 & 0.1\\\\\n",
       "\t 13                    &  -178.38188 & 0.1\\\\\n",
       "\t 14                    &  -187.05610 & 0.1\\\\\n",
       "\t 15                    &  -113.90807 & 0.1\\\\\n",
       "\t 16                    &    10.18360 & 0.1\\\\\n",
       "\t 17                    &   280.25590 & 0.1\\\\\n",
       "\t 18                    &   725.29135 & 0.1\\\\\n",
       "\t 19                    &   466.31445 & 0.1\\\\\n",
       "\t 2                     &  -269.88715 & 0.1\\\\\n",
       "\t 20                    &   381.75848 & 0.1\\\\\n",
       "\t 21                    &   390.35834 & 0.1\\\\\n",
       "\t 22                    &   281.28178 & 0.1\\\\\n",
       "\t 23                    &    53.45449 & 0.1\\\\\n",
       "\t 3                     &  -349.70762 & 0.1\\\\\n",
       "\t 4                     &  -410.52692 & 0.1\\\\\n",
       "\t 5                     &  -392.20969 & 0.1\\\\\n",
       "\t 6                     &  -245.42084 & 0.1\\\\\n",
       "\t 7                     &    59.64947 & 0.1\\\\\n",
       "\t 8                     &   392.32308 & 0.1\\\\\n",
       "\t 9                     &   -27.78471 & 0.1\\\\\n",
       "\t AUTUMN                &   166.37368 & 0.1\\\\\n",
       "\t SPRING                &    10.87571 & 0.1\\\\\n",
       "\t SUMMER                &    33.30881 & 0.1\\\\\n",
       "\t WINTER                &  -202.06600 & 0.1\\\\\n",
       "\t HOLIDAY               &   -59.17195 & 0.1\\\\\n",
       "\t NO\\_HOLIDAY            &    58.48612 & 0.1\\\\\n",
       "\\end{tabular}\n"
      ],
      "text/markdown": [
       "\n",
       "A tibble: 39 × 3\n",
       "\n",
       "| term &lt;chr&gt; | estimate &lt;dbl&gt; | penalty &lt;dbl&gt; |\n",
       "|---|---|---|\n",
       "| (Intercept)           |   342.31488 | 0.1 |\n",
       "| TEMPERATURE           |   831.84024 | 0.1 |\n",
       "| HUMIDITY              |  -721.91395 | 0.1 |\n",
       "| WIND_SPEED            |    24.75312 | 0.1 |\n",
       "| VISIBILITY            |    50.42041 | 0.1 |\n",
       "| DEW_POINT_TEMPERATURE |   416.03003 | 0.1 |\n",
       "| SOLAR_RADIATION       |   241.21443 | 0.1 |\n",
       "| RAINFALL              | -2068.21240 | 0.1 |\n",
       "| SNOWFALL              |   129.48708 | 0.1 |\n",
       "| 0                     |   -62.71701 | 0.1 |\n",
       "| 1                     |  -162.47987 | 0.1 |\n",
       "| 10                    |  -240.85950 | 0.1 |\n",
       "| 11                    |  -245.06731 | 0.1 |\n",
       "| 12                    |  -198.46185 | 0.1 |\n",
       "| 13                    |  -178.38188 | 0.1 |\n",
       "| 14                    |  -187.05610 | 0.1 |\n",
       "| 15                    |  -113.90807 | 0.1 |\n",
       "| 16                    |    10.18360 | 0.1 |\n",
       "| 17                    |   280.25590 | 0.1 |\n",
       "| 18                    |   725.29135 | 0.1 |\n",
       "| 19                    |   466.31445 | 0.1 |\n",
       "| 2                     |  -269.88715 | 0.1 |\n",
       "| 20                    |   381.75848 | 0.1 |\n",
       "| 21                    |   390.35834 | 0.1 |\n",
       "| 22                    |   281.28178 | 0.1 |\n",
       "| 23                    |    53.45449 | 0.1 |\n",
       "| 3                     |  -349.70762 | 0.1 |\n",
       "| 4                     |  -410.52692 | 0.1 |\n",
       "| 5                     |  -392.20969 | 0.1 |\n",
       "| 6                     |  -245.42084 | 0.1 |\n",
       "| 7                     |    59.64947 | 0.1 |\n",
       "| 8                     |   392.32308 | 0.1 |\n",
       "| 9                     |   -27.78471 | 0.1 |\n",
       "| AUTUMN                |   166.37368 | 0.1 |\n",
       "| SPRING                |    10.87571 | 0.1 |\n",
       "| SUMMER                |    33.30881 | 0.1 |\n",
       "| WINTER                |  -202.06600 | 0.1 |\n",
       "| HOLIDAY               |   -59.17195 | 0.1 |\n",
       "| NO_HOLIDAY            |    58.48612 | 0.1 |\n",
       "\n"
      ],
      "text/plain": [
       "   term                  estimate    penalty\n",
       "1  (Intercept)             342.31488 0.1    \n",
       "2  TEMPERATURE             831.84024 0.1    \n",
       "3  HUMIDITY               -721.91395 0.1    \n",
       "4  WIND_SPEED               24.75312 0.1    \n",
       "5  VISIBILITY               50.42041 0.1    \n",
       "6  DEW_POINT_TEMPERATURE   416.03003 0.1    \n",
       "7  SOLAR_RADIATION         241.21443 0.1    \n",
       "8  RAINFALL              -2068.21240 0.1    \n",
       "9  SNOWFALL                129.48708 0.1    \n",
       "10 0                       -62.71701 0.1    \n",
       "11 1                      -162.47987 0.1    \n",
       "12 10                     -240.85950 0.1    \n",
       "13 11                     -245.06731 0.1    \n",
       "14 12                     -198.46185 0.1    \n",
       "15 13                     -178.38188 0.1    \n",
       "16 14                     -187.05610 0.1    \n",
       "17 15                     -113.90807 0.1    \n",
       "18 16                       10.18360 0.1    \n",
       "19 17                      280.25590 0.1    \n",
       "20 18                      725.29135 0.1    \n",
       "21 19                      466.31445 0.1    \n",
       "22 2                      -269.88715 0.1    \n",
       "23 20                      381.75848 0.1    \n",
       "24 21                      390.35834 0.1    \n",
       "25 22                      281.28178 0.1    \n",
       "26 23                       53.45449 0.1    \n",
       "27 3                      -349.70762 0.1    \n",
       "28 4                      -410.52692 0.1    \n",
       "29 5                      -392.20969 0.1    \n",
       "30 6                      -245.42084 0.1    \n",
       "31 7                        59.64947 0.1    \n",
       "32 8                       392.32308 0.1    \n",
       "33 9                       -27.78471 0.1    \n",
       "34 AUTUMN                  166.37368 0.1    \n",
       "35 SPRING                   10.87571 0.1    \n",
       "36 SUMMER                   33.30881 0.1    \n",
       "37 WINTER                 -202.06600 0.1    \n",
       "38 HOLIDAY                 -59.17195 0.1    \n",
       "39 NO_HOLIDAY               58.48612 0.1    "
      ]
     },
     "metadata": {},
     "output_type": "display_data"
    }
   ],
   "source": [
    "# Fit a glmnet model using the fit() function\n",
    "\n",
    "#Create a recipe\n",
    "bike_recipe <- recipe(RENTED_BIKE_COUNT ~., data = train_data)\n",
    "\n",
    "#Create a work flow\n",
    "ridge_wf <- workflow() %>% add_recipe(bike_recipe)\n",
    "\n",
    "#Add the ridge model and fit the model\n",
    "ridge_fit <- ridge_wf %>%\n",
    "    add_model(ridge_spec) %>%\n",
    "    fit(data = train_data) \n",
    "\n",
    "#view the fit model result\n",
    "ridge_fit %>%\n",
    "    pull_workflow_fit() %>%\n",
    "    tidy()"
   ]
  },
  {
   "cell_type": "code",
   "execution_count": 16,
   "metadata": {},
   "outputs": [
    {
     "data": {
      "text/html": [
       "<table class=\"dataframe\">\n",
       "<caption>A tibble: 39 × 3</caption>\n",
       "<thead>\n",
       "\t<tr><th scope=col>term</th><th scope=col>estimate</th><th scope=col>penalty</th></tr>\n",
       "\t<tr><th scope=col>&lt;chr&gt;</th><th scope=col>&lt;dbl&gt;</th><th scope=col>&lt;dbl&gt;</th></tr>\n",
       "</thead>\n",
       "<tbody>\n",
       "\t<tr><td>(Intercept)          </td><td> 3.159535e+02</td><td>0.1</td></tr>\n",
       "\t<tr><td>TEMPERATURE          </td><td> 9.633059e+02</td><td>0.1</td></tr>\n",
       "\t<tr><td>HUMIDITY             </td><td>-8.108643e+02</td><td>0.1</td></tr>\n",
       "\t<tr><td>WIND_SPEED           </td><td> 1.239414e+01</td><td>0.1</td></tr>\n",
       "\t<tr><td>VISIBILITY           </td><td> 1.928153e+01</td><td>0.1</td></tr>\n",
       "\t<tr><td>DEW_POINT_TEMPERATURE</td><td> 4.202592e+02</td><td>0.1</td></tr>\n",
       "\t<tr><td>SOLAR_RADIATION      </td><td> 2.555924e+02</td><td>0.1</td></tr>\n",
       "\t<tr><td>RAINFALL             </td><td>-2.104523e+03</td><td>0.1</td></tr>\n",
       "\t<tr><td>SNOWFALL             </td><td> 2.152158e+02</td><td>0.1</td></tr>\n",
       "\t<tr><td>0                    </td><td> 3.984034e+01</td><td>0.1</td></tr>\n",
       "\t<tr><td>1                    </td><td>-6.117987e+01</td><td>0.1</td></tr>\n",
       "\t<tr><td>10                   </td><td>-1.639249e+02</td><td>0.1</td></tr>\n",
       "\t<tr><td>11                   </td><td>-1.755555e+02</td><td>0.1</td></tr>\n",
       "\t<tr><td>12                   </td><td>-1.315982e+02</td><td>0.1</td></tr>\n",
       "\t<tr><td>13                   </td><td>-1.132752e+02</td><td>0.1</td></tr>\n",
       "\t<tr><td>14                   </td><td>-1.236668e+02</td><td>0.1</td></tr>\n",
       "\t<tr><td>15                   </td><td>-4.706667e+01</td><td>0.1</td></tr>\n",
       "\t<tr><td>16                   </td><td> 8.493046e+01</td><td>0.1</td></tr>\n",
       "\t<tr><td>17                   </td><td> 3.743159e+02</td><td>0.1</td></tr>\n",
       "\t<tr><td>18                   </td><td> 8.495596e+02</td><td>0.1</td></tr>\n",
       "\t<tr><td>19                   </td><td> 5.831310e+02</td><td>0.1</td></tr>\n",
       "\t<tr><td>2                    </td><td>-1.734184e+02</td><td>0.1</td></tr>\n",
       "\t<tr><td>20                   </td><td> 4.989034e+02</td><td>0.1</td></tr>\n",
       "\t<tr><td>21                   </td><td> 5.115198e+02</td><td>0.1</td></tr>\n",
       "\t<tr><td>22                   </td><td> 3.983014e+02</td><td>0.1</td></tr>\n",
       "\t<tr><td>23                   </td><td> 1.602392e+02</td><td>0.1</td></tr>\n",
       "\t<tr><td>3                    </td><td>-2.559528e+02</td><td>0.1</td></tr>\n",
       "\t<tr><td>4                    </td><td>-3.196393e+02</td><td>0.1</td></tr>\n",
       "\t<tr><td>5                    </td><td>-2.993360e+02</td><td>0.1</td></tr>\n",
       "\t<tr><td>6                    </td><td>-1.438474e+02</td><td>0.1</td></tr>\n",
       "\t<tr><td>7                    </td><td> 1.731998e+02</td><td>0.1</td></tr>\n",
       "\t<tr><td>8                    </td><td> 5.192273e+02</td><td>0.1</td></tr>\n",
       "\t<tr><td>9                    </td><td> 6.727746e+01</td><td>0.1</td></tr>\n",
       "\t<tr><td>AUTUMN               </td><td> 1.646060e+02</td><td>0.1</td></tr>\n",
       "\t<tr><td>SPRING               </td><td> 0.000000e+00</td><td>0.1</td></tr>\n",
       "\t<tr><td>SUMMER               </td><td> 0.000000e+00</td><td>0.1</td></tr>\n",
       "\t<tr><td>WINTER               </td><td>-1.892443e+02</td><td>0.1</td></tr>\n",
       "\t<tr><td>HOLIDAY              </td><td>-1.226143e+02</td><td>0.1</td></tr>\n",
       "\t<tr><td>NO_HOLIDAY           </td><td> 2.276278e-09</td><td>0.1</td></tr>\n",
       "</tbody>\n",
       "</table>\n"
      ],
      "text/latex": [
       "A tibble: 39 × 3\n",
       "\\begin{tabular}{lll}\n",
       " term & estimate & penalty\\\\\n",
       " <chr> & <dbl> & <dbl>\\\\\n",
       "\\hline\n",
       "\t (Intercept)           &  3.159535e+02 & 0.1\\\\\n",
       "\t TEMPERATURE           &  9.633059e+02 & 0.1\\\\\n",
       "\t HUMIDITY              & -8.108643e+02 & 0.1\\\\\n",
       "\t WIND\\_SPEED            &  1.239414e+01 & 0.1\\\\\n",
       "\t VISIBILITY            &  1.928153e+01 & 0.1\\\\\n",
       "\t DEW\\_POINT\\_TEMPERATURE &  4.202592e+02 & 0.1\\\\\n",
       "\t SOLAR\\_RADIATION       &  2.555924e+02 & 0.1\\\\\n",
       "\t RAINFALL              & -2.104523e+03 & 0.1\\\\\n",
       "\t SNOWFALL              &  2.152158e+02 & 0.1\\\\\n",
       "\t 0                     &  3.984034e+01 & 0.1\\\\\n",
       "\t 1                     & -6.117987e+01 & 0.1\\\\\n",
       "\t 10                    & -1.639249e+02 & 0.1\\\\\n",
       "\t 11                    & -1.755555e+02 & 0.1\\\\\n",
       "\t 12                    & -1.315982e+02 & 0.1\\\\\n",
       "\t 13                    & -1.132752e+02 & 0.1\\\\\n",
       "\t 14                    & -1.236668e+02 & 0.1\\\\\n",
       "\t 15                    & -4.706667e+01 & 0.1\\\\\n",
       "\t 16                    &  8.493046e+01 & 0.1\\\\\n",
       "\t 17                    &  3.743159e+02 & 0.1\\\\\n",
       "\t 18                    &  8.495596e+02 & 0.1\\\\\n",
       "\t 19                    &  5.831310e+02 & 0.1\\\\\n",
       "\t 2                     & -1.734184e+02 & 0.1\\\\\n",
       "\t 20                    &  4.989034e+02 & 0.1\\\\\n",
       "\t 21                    &  5.115198e+02 & 0.1\\\\\n",
       "\t 22                    &  3.983014e+02 & 0.1\\\\\n",
       "\t 23                    &  1.602392e+02 & 0.1\\\\\n",
       "\t 3                     & -2.559528e+02 & 0.1\\\\\n",
       "\t 4                     & -3.196393e+02 & 0.1\\\\\n",
       "\t 5                     & -2.993360e+02 & 0.1\\\\\n",
       "\t 6                     & -1.438474e+02 & 0.1\\\\\n",
       "\t 7                     &  1.731998e+02 & 0.1\\\\\n",
       "\t 8                     &  5.192273e+02 & 0.1\\\\\n",
       "\t 9                     &  6.727746e+01 & 0.1\\\\\n",
       "\t AUTUMN                &  1.646060e+02 & 0.1\\\\\n",
       "\t SPRING                &  0.000000e+00 & 0.1\\\\\n",
       "\t SUMMER                &  0.000000e+00 & 0.1\\\\\n",
       "\t WINTER                & -1.892443e+02 & 0.1\\\\\n",
       "\t HOLIDAY               & -1.226143e+02 & 0.1\\\\\n",
       "\t NO\\_HOLIDAY            &  2.276278e-09 & 0.1\\\\\n",
       "\\end{tabular}\n"
      ],
      "text/markdown": [
       "\n",
       "A tibble: 39 × 3\n",
       "\n",
       "| term &lt;chr&gt; | estimate &lt;dbl&gt; | penalty &lt;dbl&gt; |\n",
       "|---|---|---|\n",
       "| (Intercept)           |  3.159535e+02 | 0.1 |\n",
       "| TEMPERATURE           |  9.633059e+02 | 0.1 |\n",
       "| HUMIDITY              | -8.108643e+02 | 0.1 |\n",
       "| WIND_SPEED            |  1.239414e+01 | 0.1 |\n",
       "| VISIBILITY            |  1.928153e+01 | 0.1 |\n",
       "| DEW_POINT_TEMPERATURE |  4.202592e+02 | 0.1 |\n",
       "| SOLAR_RADIATION       |  2.555924e+02 | 0.1 |\n",
       "| RAINFALL              | -2.104523e+03 | 0.1 |\n",
       "| SNOWFALL              |  2.152158e+02 | 0.1 |\n",
       "| 0                     |  3.984034e+01 | 0.1 |\n",
       "| 1                     | -6.117987e+01 | 0.1 |\n",
       "| 10                    | -1.639249e+02 | 0.1 |\n",
       "| 11                    | -1.755555e+02 | 0.1 |\n",
       "| 12                    | -1.315982e+02 | 0.1 |\n",
       "| 13                    | -1.132752e+02 | 0.1 |\n",
       "| 14                    | -1.236668e+02 | 0.1 |\n",
       "| 15                    | -4.706667e+01 | 0.1 |\n",
       "| 16                    |  8.493046e+01 | 0.1 |\n",
       "| 17                    |  3.743159e+02 | 0.1 |\n",
       "| 18                    |  8.495596e+02 | 0.1 |\n",
       "| 19                    |  5.831310e+02 | 0.1 |\n",
       "| 2                     | -1.734184e+02 | 0.1 |\n",
       "| 20                    |  4.989034e+02 | 0.1 |\n",
       "| 21                    |  5.115198e+02 | 0.1 |\n",
       "| 22                    |  3.983014e+02 | 0.1 |\n",
       "| 23                    |  1.602392e+02 | 0.1 |\n",
       "| 3                     | -2.559528e+02 | 0.1 |\n",
       "| 4                     | -3.196393e+02 | 0.1 |\n",
       "| 5                     | -2.993360e+02 | 0.1 |\n",
       "| 6                     | -1.438474e+02 | 0.1 |\n",
       "| 7                     |  1.731998e+02 | 0.1 |\n",
       "| 8                     |  5.192273e+02 | 0.1 |\n",
       "| 9                     |  6.727746e+01 | 0.1 |\n",
       "| AUTUMN                |  1.646060e+02 | 0.1 |\n",
       "| SPRING                |  0.000000e+00 | 0.1 |\n",
       "| SUMMER                |  0.000000e+00 | 0.1 |\n",
       "| WINTER                | -1.892443e+02 | 0.1 |\n",
       "| HOLIDAY               | -1.226143e+02 | 0.1 |\n",
       "| NO_HOLIDAY            |  2.276278e-09 | 0.1 |\n",
       "\n"
      ],
      "text/plain": [
       "   term                  estimate      penalty\n",
       "1  (Intercept)            3.159535e+02 0.1    \n",
       "2  TEMPERATURE            9.633059e+02 0.1    \n",
       "3  HUMIDITY              -8.108643e+02 0.1    \n",
       "4  WIND_SPEED             1.239414e+01 0.1    \n",
       "5  VISIBILITY             1.928153e+01 0.1    \n",
       "6  DEW_POINT_TEMPERATURE  4.202592e+02 0.1    \n",
       "7  SOLAR_RADIATION        2.555924e+02 0.1    \n",
       "8  RAINFALL              -2.104523e+03 0.1    \n",
       "9  SNOWFALL               2.152158e+02 0.1    \n",
       "10 0                      3.984034e+01 0.1    \n",
       "11 1                     -6.117987e+01 0.1    \n",
       "12 10                    -1.639249e+02 0.1    \n",
       "13 11                    -1.755555e+02 0.1    \n",
       "14 12                    -1.315982e+02 0.1    \n",
       "15 13                    -1.132752e+02 0.1    \n",
       "16 14                    -1.236668e+02 0.1    \n",
       "17 15                    -4.706667e+01 0.1    \n",
       "18 16                     8.493046e+01 0.1    \n",
       "19 17                     3.743159e+02 0.1    \n",
       "20 18                     8.495596e+02 0.1    \n",
       "21 19                     5.831310e+02 0.1    \n",
       "22 2                     -1.734184e+02 0.1    \n",
       "23 20                     4.989034e+02 0.1    \n",
       "24 21                     5.115198e+02 0.1    \n",
       "25 22                     3.983014e+02 0.1    \n",
       "26 23                     1.602392e+02 0.1    \n",
       "27 3                     -2.559528e+02 0.1    \n",
       "28 4                     -3.196393e+02 0.1    \n",
       "29 5                     -2.993360e+02 0.1    \n",
       "30 6                     -1.438474e+02 0.1    \n",
       "31 7                      1.731998e+02 0.1    \n",
       "32 8                      5.192273e+02 0.1    \n",
       "33 9                      6.727746e+01 0.1    \n",
       "34 AUTUMN                 1.646060e+02 0.1    \n",
       "35 SPRING                 0.000000e+00 0.1    \n",
       "36 SUMMER                 0.000000e+00 0.1    \n",
       "37 WINTER                -1.892443e+02 0.1    \n",
       "38 HOLIDAY               -1.226143e+02 0.1    \n",
       "39 NO_HOLIDAY             2.276278e-09 0.1    "
      ]
     },
     "metadata": {},
     "output_type": "display_data"
    }
   ],
   "source": [
    "lasso_wf <- workflow() %>%\n",
    "    add_recipe(bike_recipe)\n",
    "\n",
    "lasso_fit <- lasso_wf %>%\n",
    "    add_model(lasso_spec) %>%\n",
    "    fit(data = train_data)\n",
    "\n",
    "lasso_fit %>%\n",
    "    pull_workflow_fit %>%\n",
    "    tidy()"
   ]
  },
  {
   "cell_type": "code",
   "execution_count": null,
   "metadata": {},
   "outputs": [],
   "source": [
    "elasticnet_spec <- linear_reg(penalty = 0.1, mixture = 0.3) %>%\n",
    "  set_engine(\"glmnet\")\n",
    "\n",
    "elasticnet_wf <- workflow() %>%\n",
    "  add_recipe(bike_recipe)\n",
    "  \n",
    "elasticnet_fit <- elasticnet_wf %>%\n",
    "  add_model(elasticnet_spec) %>%\n",
    "  fit(data = train_data)\n",
    "  \n",
    "elasticnet_fit %>%\n",
    "  pull_workflow_fit() %>%\n",
    "  tidy()"
   ]
  },
  {
   "cell_type": "code",
   "execution_count": null,
   "id": "d3f6e477-fd5b-4e41-a73c-bfef4f28b27c",
   "metadata": {},
   "outputs": [],
   "source": [
    "# Report rsq and rmse of the `lm_glmnet` model\n",
    "\n",
    "model <- c('lm_poly','lm_interactive')\n",
    "rsq <- c(rsq_poly, rsq_train_interactive )\n",
    "rmse <- c(rmse_poly, rmse_train_interactive)\n",
    "traindata_cm <- data.frame(model, rsq, rmse)\n",
    "traindata_cm"
   ]
  },
  {
   "cell_type": "markdown",
   "id": "5bf38aa6-f221-4d2b-8136-ba6e3952f637",
   "metadata": {},
   "source": [
    "# TASK: Experiment to search for improved models\n"
   ]
  },
  {
   "cell_type": "markdown",
   "id": "31eef397-f826-4402-8083-1f83dd3ae5d4",
   "metadata": {},
   "source": [
    "Now you understand some of the methods that you can use to try to improve your models.\n"
   ]
  },
  {
   "cell_type": "markdown",
   "id": "e69a7afc-e03e-4ac1-b4d8-279a81ef7bdc",
   "metadata": {},
   "source": [
    "_TODO:_ Experiment by building and testing at least five different models. For each of your experiments, include polynomial terms, interaction terms, and one of the three regularizations we introduced.\n"
   ]
  },
  {
   "cell_type": "code",
   "execution_count": 17,
   "metadata": {},
   "outputs": [
    {
     "data": {
      "text/html": [
       "<table class=\"dataframe\">\n",
       "<caption>A tibble: 1 × 1</caption>\n",
       "<thead>\n",
       "\t<tr><th scope=col>mean</th></tr>\n",
       "\t<tr><th scope=col>&lt;dbl&gt;</th></tr>\n",
       "</thead>\n",
       "<tbody>\n",
       "\t<tr><td>378.6325</td></tr>\n",
       "</tbody>\n",
       "</table>\n"
      ],
      "text/latex": [
       "A tibble: 1 × 1\n",
       "\\begin{tabular}{l}\n",
       " mean\\\\\n",
       " <dbl>\\\\\n",
       "\\hline\n",
       "\t 378.6325\\\\\n",
       "\\end{tabular}\n"
      ],
      "text/markdown": [
       "\n",
       "A tibble: 1 × 1\n",
       "\n",
       "| mean &lt;dbl&gt; |\n",
       "|---|\n",
       "| 378.6325 |\n",
       "\n"
      ],
      "text/plain": [
       "  mean    \n",
       "1 378.6325"
      ]
     },
     "metadata": {},
     "output_type": "display_data"
    },
    {
     "data": {
      "text/html": [
       "<table class=\"dataframe\">\n",
       "<caption>A tibble: 1 × 1</caption>\n",
       "<thead>\n",
       "\t<tr><th scope=col>mean</th></tr>\n",
       "\t<tr><th scope=col>&lt;dbl&gt;</th></tr>\n",
       "</thead>\n",
       "<tbody>\n",
       "\t<tr><td>0.6557688</td></tr>\n",
       "</tbody>\n",
       "</table>\n"
      ],
      "text/latex": [
       "A tibble: 1 × 1\n",
       "\\begin{tabular}{l}\n",
       " mean\\\\\n",
       " <dbl>\\\\\n",
       "\\hline\n",
       "\t 0.6557688\\\\\n",
       "\\end{tabular}\n"
      ],
      "text/markdown": [
       "\n",
       "A tibble: 1 × 1\n",
       "\n",
       "| mean &lt;dbl&gt; |\n",
       "|---|\n",
       "| 0.6557688 |\n",
       "\n"
      ],
      "text/plain": [
       "  mean     \n",
       "1 0.6557688"
      ]
     },
     "metadata": {},
     "output_type": "display_data"
    }
   ],
   "source": [
    "#grid search for ridge model\n",
    "#set up model\n",
    "tune_spec <- linear_reg(\n",
    "    penalty = tune(),\n",
    "    mixture = 0) %>% set_engine(\"glmnet\")\n",
    "\n",
    "#Create workflow\n",
    "ridge_wf <- workflow() %>% add_recipe(bike_recipe)\n",
    "\n",
    "#Define cross validation\n",
    "bike_cvfolds <- vfold_cv(train_data)\n",
    "\n",
    "#Set up grid\n",
    "lambda_grid <- grid_regular(levels = 50,\n",
    "    penalty(range = c(-3,0.3)))\n",
    "\n",
    "#Tune the grid\n",
    "train_fit1 <- tune_grid(\n",
    "    lasso_wf %>% add_model(tune_spec),\n",
    "    resamples = bike_cvfolds,\n",
    "    grid = lambda_grid)\n",
    "\n",
    "test_fit1 <- tune_grid(\n",
    "    lasso_wf %>% add_model(tune_spec),\n",
    "    resamples = bike_cvfolds,\n",
    "    grid = lambda_grid)\n",
    "\n",
    "results_grid <- show_best(train_fit1, metric = \"rmse\")\n",
    "rmse_train1 <- results_grid[1,4]\n",
    "rmse_train1\n",
    "\n",
    "results_grid <- show_best(train_fit1, metric = \"rsq\")\n",
    "rsq_train1 <- results_grid[1,4]\n",
    "\n",
    "rsq_train1\n"
   ]
  },
  {
   "cell_type": "code",
   "execution_count": 18,
   "metadata": {},
   "outputs": [
    {
     "data": {
      "text/html": [
       "<table class=\"dataframe\">\n",
       "<caption>A tibble: 1 × 1</caption>\n",
       "<thead>\n",
       "\t<tr><th scope=col>mean</th></tr>\n",
       "\t<tr><th scope=col>&lt;dbl&gt;</th></tr>\n",
       "</thead>\n",
       "<tbody>\n",
       "\t<tr><td>378.3011</td></tr>\n",
       "</tbody>\n",
       "</table>\n"
      ],
      "text/latex": [
       "A tibble: 1 × 1\n",
       "\\begin{tabular}{l}\n",
       " mean\\\\\n",
       " <dbl>\\\\\n",
       "\\hline\n",
       "\t 378.3011\\\\\n",
       "\\end{tabular}\n"
      ],
      "text/markdown": [
       "\n",
       "A tibble: 1 × 1\n",
       "\n",
       "| mean &lt;dbl&gt; |\n",
       "|---|\n",
       "| 378.3011 |\n",
       "\n"
      ],
      "text/plain": [
       "  mean    \n",
       "1 378.3011"
      ]
     },
     "metadata": {},
     "output_type": "display_data"
    },
    {
     "data": {
      "text/html": [
       "<table class=\"dataframe\">\n",
       "<caption>A tibble: 1 × 1</caption>\n",
       "<thead>\n",
       "\t<tr><th scope=col>mean</th></tr>\n",
       "\t<tr><th scope=col>&lt;dbl&gt;</th></tr>\n",
       "</thead>\n",
       "<tbody>\n",
       "\t<tr><td>0.6554689</td></tr>\n",
       "</tbody>\n",
       "</table>\n"
      ],
      "text/latex": [
       "A tibble: 1 × 1\n",
       "\\begin{tabular}{l}\n",
       " mean\\\\\n",
       " <dbl>\\\\\n",
       "\\hline\n",
       "\t 0.6554689\\\\\n",
       "\\end{tabular}\n"
      ],
      "text/markdown": [
       "\n",
       "A tibble: 1 × 1\n",
       "\n",
       "| mean &lt;dbl&gt; |\n",
       "|---|\n",
       "| 0.6554689 |\n",
       "\n"
      ],
      "text/plain": [
       "  mean     \n",
       "1 0.6554689"
      ]
     },
     "metadata": {},
     "output_type": "display_data"
    }
   ],
   "source": [
    "#grid search for lasso model\n",
    "#set up model\n",
    "tune_spec <- linear_reg(\n",
    "    penalty = tune(),\n",
    "    mixture = 1) %>% set_engine(\"glmnet\")\n",
    "\n",
    "#Create workflow\n",
    "lasso_wf <- workflow() %>% add_recipe(bike_recipe)\n",
    "\n",
    "#Define cross validation\n",
    "bike_cvfolds <- vfold_cv(train_data)\n",
    "\n",
    "#Set up grid\n",
    "lambda_grid <- grid_regular(levels = 50,\n",
    "    penalty(range = c(-3,0.3)))\n",
    "\n",
    "#Tune the grid\n",
    "train_fit2 <- tune_grid(\n",
    "    lasso_wf %>% add_model(tune_spec),\n",
    "    resamples = bike_cvfolds,\n",
    "    grid = lambda_grid)\n",
    "\n",
    "result_grid <- show_best(train_fit2, metric = \"rmse\")\n",
    "rmse_train2 <- result_grid[1,4]\n",
    "rmse_train2\n",
    "\n",
    "result_grid <- show_best(train_fit2, metric = \"rsq\")\n",
    "rsq_train2 <- result_grid[1,4]\n",
    "rsq_train2  "
   ]
  },
  {
   "cell_type": "code",
   "execution_count": 19,
   "metadata": {},
   "outputs": [
    {
     "data": {
      "text/html": [
       "<table class=\"dataframe\">\n",
       "<caption>A tibble: 1 × 1</caption>\n",
       "<thead>\n",
       "\t<tr><th scope=col>mean</th></tr>\n",
       "\t<tr><th scope=col>&lt;dbl&gt;</th></tr>\n",
       "</thead>\n",
       "<tbody>\n",
       "\t<tr><td>377.9417</td></tr>\n",
       "</tbody>\n",
       "</table>\n"
      ],
      "text/latex": [
       "A tibble: 1 × 1\n",
       "\\begin{tabular}{l}\n",
       " mean\\\\\n",
       " <dbl>\\\\\n",
       "\\hline\n",
       "\t 377.9417\\\\\n",
       "\\end{tabular}\n"
      ],
      "text/markdown": [
       "\n",
       "A tibble: 1 × 1\n",
       "\n",
       "| mean &lt;dbl&gt; |\n",
       "|---|\n",
       "| 377.9417 |\n",
       "\n"
      ],
      "text/plain": [
       "  mean    \n",
       "1 377.9417"
      ]
     },
     "metadata": {},
     "output_type": "display_data"
    },
    {
     "data": {
      "text/html": [
       "<table class=\"dataframe\">\n",
       "<caption>A tibble: 1 × 1</caption>\n",
       "<thead>\n",
       "\t<tr><th scope=col>mean</th></tr>\n",
       "\t<tr><th scope=col>&lt;dbl&gt;</th></tr>\n",
       "</thead>\n",
       "<tbody>\n",
       "\t<tr><td>0.6564592</td></tr>\n",
       "</tbody>\n",
       "</table>\n"
      ],
      "text/latex": [
       "A tibble: 1 × 1\n",
       "\\begin{tabular}{l}\n",
       " mean\\\\\n",
       " <dbl>\\\\\n",
       "\\hline\n",
       "\t 0.6564592\\\\\n",
       "\\end{tabular}\n"
      ],
      "text/markdown": [
       "\n",
       "A tibble: 1 × 1\n",
       "\n",
       "| mean &lt;dbl&gt; |\n",
       "|---|\n",
       "| 0.6564592 |\n",
       "\n"
      ],
      "text/plain": [
       "  mean     \n",
       "1 0.6564592"
      ]
     },
     "metadata": {},
     "output_type": "display_data"
    }
   ],
   "source": [
    "#grid search for elastic net\n",
    "#create model\n",
    "tune_spec <- linear_reg(\n",
    "    penalty = tune(),\n",
    "    mixture = 0.3) %>% set_engine(\"glmnet\")\n",
    "\n",
    "#Create workflow\n",
    "elastic_wf = workflow() %>% add_recipe(bike_recipe)\n",
    "\n",
    "#Define the cross validation\n",
    "bike_cvfolds <- vfold_cv(train_data)\n",
    "\n",
    "#Set up grid\n",
    "lambda_grid <- grid_regular(levels = 50,\n",
    "    penalty(range = c(-3, 0.3)))\n",
    "\n",
    "#Tune the grid\n",
    "train_fit5 <- tune_grid(\n",
    "    elastic_wf %>% add_model(tune_spec),\n",
    "    resamples = bike_cvfolds,\n",
    "    grid = lambda_grid)\n",
    "\n",
    "#RMSE, RSQ\n",
    "result_grid <- show_best(train_fit5, metric = 'rmse')\n",
    "rmse_train5 = result_grid[1,4]\n",
    "rmse_train5\n",
    "\n",
    "result_grid <- show_best(train_fit5, metric = 'rsq')\n",
    "rsq_train5 = result_grid[1,4]\n",
    "rsq_train5\n"
   ]
  },
  {
   "cell_type": "code",
   "execution_count": 20,
   "metadata": {},
   "outputs": [
    {
     "data": {
      "text/html": [
       "1.07751281337916e-12"
      ],
      "text/latex": [
       "1.07751281337916e-12"
      ],
      "text/markdown": [
       "1.07751281337916e-12"
      ],
      "text/plain": [
       "[1] 1.077513e-12"
      ]
     },
     "metadata": {},
     "output_type": "display_data"
    },
    {
     "data": {
      "text/html": [
       "<table class=\"dataframe\">\n",
       "<caption>A tibble: 1 × 3</caption>\n",
       "<thead>\n",
       "\t<tr><th scope=col>.metric</th><th scope=col>.estimator</th><th scope=col>.estimate</th></tr>\n",
       "\t<tr><th scope=col>&lt;chr&gt;</th><th scope=col>&lt;chr&gt;</th><th scope=col>&lt;dbl&gt;</th></tr>\n",
       "</thead>\n",
       "<tbody>\n",
       "\t<tr><td>rsq</td><td>standard</td><td>0.3575389</td></tr>\n",
       "</tbody>\n",
       "</table>\n"
      ],
      "text/latex": [
       "A tibble: 1 × 3\n",
       "\\begin{tabular}{lll}\n",
       " .metric & .estimator & .estimate\\\\\n",
       " <chr> & <chr> & <dbl>\\\\\n",
       "\\hline\n",
       "\t rsq & standard & 0.3575389\\\\\n",
       "\\end{tabular}\n"
      ],
      "text/markdown": [
       "\n",
       "A tibble: 1 × 3\n",
       "\n",
       "| .metric &lt;chr&gt; | .estimator &lt;chr&gt; | .estimate &lt;dbl&gt; |\n",
       "|---|---|---|\n",
       "| rsq | standard | 0.3575389 |\n",
       "\n"
      ],
      "text/plain": [
       "  .metric .estimator .estimate\n",
       "1 rsq     standard   0.3575389"
      ]
     },
     "metadata": {},
     "output_type": "display_data"
    },
    {
     "data": {
      "text/html": [
       "15.0208220864241"
      ],
      "text/latex": [
       "15.0208220864241"
      ],
      "text/markdown": [
       "15.0208220864241"
      ],
      "text/plain": [
       "[1] 15.02082"
      ]
     },
     "metadata": {},
     "output_type": "display_data"
    },
    {
     "data": {
      "text/html": [
       "<table class=\"dataframe\">\n",
       "<caption>A tibble: 1 × 3</caption>\n",
       "<thead>\n",
       "\t<tr><th scope=col>.metric</th><th scope=col>.estimator</th><th scope=col>.estimate</th></tr>\n",
       "\t<tr><th scope=col>&lt;chr&gt;</th><th scope=col>&lt;chr&gt;</th><th scope=col>&lt;dbl&gt;</th></tr>\n",
       "</thead>\n",
       "<tbody>\n",
       "\t<tr><td>rsq</td><td>standard</td><td>0.3568909</td></tr>\n",
       "</tbody>\n",
       "</table>\n"
      ],
      "text/latex": [
       "A tibble: 1 × 3\n",
       "\\begin{tabular}{lll}\n",
       " .metric & .estimator & .estimate\\\\\n",
       " <chr> & <chr> & <dbl>\\\\\n",
       "\\hline\n",
       "\t rsq & standard & 0.3568909\\\\\n",
       "\\end{tabular}\n"
      ],
      "text/markdown": [
       "\n",
       "A tibble: 1 × 3\n",
       "\n",
       "| .metric &lt;chr&gt; | .estimator &lt;chr&gt; | .estimate &lt;dbl&gt; |\n",
       "|---|---|---|\n",
       "| rsq | standard | 0.3568909 |\n",
       "\n"
      ],
      "text/plain": [
       "  .metric .estimator .estimate\n",
       "1 rsq     standard   0.3568909"
      ]
     },
     "metadata": {},
     "output_type": "display_data"
    }
   ],
   "source": [
    "#polynomial model\n",
    "train_fit3 <- lm_spec %>%\n",
    "    fit(RENTED_BIKE_COUNT ~ poly(TEMPERATURE,2)+poly(RAINFALL,2)+poly(SNOWFALL,2),\n",
    "        data = train_data)\n",
    "\n",
    "train_results3 <- train_fit3 %>%\n",
    "    predict(new_data = train_data) %>%\n",
    "    mutate(truth = train_data$RENTED_BIKE_COUNT)\n",
    "\n",
    "test_results3 <- train_fit3 %>%\n",
    "    predict(new_data = test_data) %>%\n",
    "    mutate(truth = test_data$RENTED_BIKE_COUNT)\n",
    "\n",
    "rmse_train3 <- sqrt(mean(train_results3$.pred - train_results3$truth)^2)\n",
    "rsq_train3 <- rsq(train_results3, truth = truth, estimate = .pred)\n",
    "rmse_train3\n",
    "rsq_train3\n",
    "\n",
    "rmse_test3 <- sqrt(mean(test_results3$.pred - test_results3$truth)^2)\n",
    "rsq_test3 <- rsq(test_results3, truth = truth, estimate = .pred)\n",
    "rmse_test3\n",
    "rsq_test3\n"
   ]
  },
  {
   "cell_type": "code",
   "execution_count": 21,
   "metadata": {},
   "outputs": [
    {
     "data": {
      "text/html": [
       "2.11128654265403e-12"
      ],
      "text/latex": [
       "2.11128654265403e-12"
      ],
      "text/markdown": [
       "2.11128654265403e-12"
      ],
      "text/plain": [
       "[1] 2.111287e-12"
      ]
     },
     "metadata": {},
     "output_type": "display_data"
    },
    {
     "data": {
      "text/html": [
       "<table class=\"dataframe\">\n",
       "<caption>A tibble: 1 × 3</caption>\n",
       "<thead>\n",
       "\t<tr><th scope=col>.metric</th><th scope=col>.estimator</th><th scope=col>.estimate</th></tr>\n",
       "\t<tr><th scope=col>&lt;chr&gt;</th><th scope=col>&lt;chr&gt;</th><th scope=col>&lt;dbl&gt;</th></tr>\n",
       "</thead>\n",
       "<tbody>\n",
       "\t<tr><td>rsq</td><td>standard</td><td>0.3411486</td></tr>\n",
       "</tbody>\n",
       "</table>\n"
      ],
      "text/latex": [
       "A tibble: 1 × 3\n",
       "\\begin{tabular}{lll}\n",
       " .metric & .estimator & .estimate\\\\\n",
       " <chr> & <chr> & <dbl>\\\\\n",
       "\\hline\n",
       "\t rsq & standard & 0.3411486\\\\\n",
       "\\end{tabular}\n"
      ],
      "text/markdown": [
       "\n",
       "A tibble: 1 × 3\n",
       "\n",
       "| .metric &lt;chr&gt; | .estimator &lt;chr&gt; | .estimate &lt;dbl&gt; |\n",
       "|---|---|---|\n",
       "| rsq | standard | 0.3411486 |\n",
       "\n"
      ],
      "text/plain": [
       "  .metric .estimator .estimate\n",
       "1 rsq     standard   0.3411486"
      ]
     },
     "metadata": {},
     "output_type": "display_data"
    },
    {
     "data": {
      "text/html": [
       "16.9927990908828"
      ],
      "text/latex": [
       "16.9927990908828"
      ],
      "text/markdown": [
       "16.9927990908828"
      ],
      "text/plain": [
       "[1] 16.9928"
      ]
     },
     "metadata": {},
     "output_type": "display_data"
    },
    {
     "data": {
      "text/html": [
       "<table class=\"dataframe\">\n",
       "<caption>A tibble: 1 × 3</caption>\n",
       "<thead>\n",
       "\t<tr><th scope=col>.metric</th><th scope=col>.estimator</th><th scope=col>.estimate</th></tr>\n",
       "\t<tr><th scope=col>&lt;chr&gt;</th><th scope=col>&lt;chr&gt;</th><th scope=col>&lt;dbl&gt;</th></tr>\n",
       "</thead>\n",
       "<tbody>\n",
       "\t<tr><td>rsq</td><td>standard</td><td>0.3471276</td></tr>\n",
       "</tbody>\n",
       "</table>\n"
      ],
      "text/latex": [
       "A tibble: 1 × 3\n",
       "\\begin{tabular}{lll}\n",
       " .metric & .estimator & .estimate\\\\\n",
       " <chr> & <chr> & <dbl>\\\\\n",
       "\\hline\n",
       "\t rsq & standard & 0.3471276\\\\\n",
       "\\end{tabular}\n"
      ],
      "text/markdown": [
       "\n",
       "A tibble: 1 × 3\n",
       "\n",
       "| .metric &lt;chr&gt; | .estimator &lt;chr&gt; | .estimate &lt;dbl&gt; |\n",
       "|---|---|---|\n",
       "| rsq | standard | 0.3471276 |\n",
       "\n"
      ],
      "text/plain": [
       "  .metric .estimator .estimate\n",
       "1 rsq     standard   0.3471276"
      ]
     },
     "metadata": {},
     "output_type": "display_data"
    }
   ],
   "source": [
    "#multi-reg model\n",
    "train_fit4 <- lm_spec %>%\n",
    "    fit(RENTED_BIKE_COUNT ~ TEMPERATURE+RAINFALL+SNOWFALL,\n",
    "        data = train_data)\n",
    "\n",
    "train_results4 <- train_fit4 %>%\n",
    "    predict(new_data = train_data) %>%\n",
    "    mutate(truth = train_data$RENTED_BIKE_COUNT)\n",
    "\n",
    "test_results4 <- train_fit4 %>%\n",
    "    predict(new_data = test_data) %>%\n",
    "    mutate(truth = test_data$RENTED_BIKE_COUNT)\n",
    "\n",
    "rmse_train4 <- sqrt(mean(train_results4$.pred - train_results4$truth)^2)\n",
    "rsq_train4 <- rsq(train_results4, truth = truth, estimate = .pred)\n",
    "rmse_train4\n",
    "rsq_train4\n",
    "\n",
    "rmse_test4 <- sqrt(mean(test_results4$.pred - test_results4$truth)^2)\n",
    "rsq_test4 <- rsq(test_results4, truth = truth, estimate = .pred)\n",
    "rmse_test4\n",
    "rsq_test4\n"
   ]
  },
  {
   "cell_type": "code",
   "execution_count": 24,
   "metadata": {},
   "outputs": [
    {
     "data": {
      "text/html": [
       "<table class=\"dataframe\">\n",
       "<caption>A tibble: 5 × 5</caption>\n",
       "<thead>\n",
       "\t<tr><th scope=col>term</th><th scope=col>estimate</th><th scope=col>std.error</th><th scope=col>statistic</th><th scope=col>p.value</th></tr>\n",
       "\t<tr><th scope=col>&lt;chr&gt;</th><th scope=col>&lt;dbl&gt;</th><th scope=col>&lt;dbl&gt;</th><th scope=col>&lt;dbl&gt;</th><th scope=col>&lt;dbl&gt;</th></tr>\n",
       "</thead>\n",
       "<tbody>\n",
       "\t<tr><td>(Intercept)</td><td> -325.6222</td><td> 20.96528</td><td>-15.531496</td><td>1.764864e-53</td></tr>\n",
       "\t<tr><td>TEMPERATURE</td><td> 1731.0916</td><td> 30.42383</td><td> 56.899190</td><td>0.000000e+00</td></tr>\n",
       "\t<tr><td>RAINFALL   </td><td>-2921.1333</td><td>185.37232</td><td>-15.758196</td><td>5.677424e-55</td></tr>\n",
       "\t<tr><td>SNOWFALL   </td><td> -355.1660</td><td>131.90767</td><td> -2.692535</td><td>7.108567e-03</td></tr>\n",
       "\t<tr><td>WIND_SPEED </td><td>  632.5302</td><td> 44.96767</td><td> 14.066334</td><td>2.563617e-44</td></tr>\n",
       "</tbody>\n",
       "</table>\n"
      ],
      "text/latex": [
       "A tibble: 5 × 5\n",
       "\\begin{tabular}{lllll}\n",
       " term & estimate & std.error & statistic & p.value\\\\\n",
       " <chr> & <dbl> & <dbl> & <dbl> & <dbl>\\\\\n",
       "\\hline\n",
       "\t (Intercept) &  -325.6222 &  20.96528 & -15.531496 & 1.764864e-53\\\\\n",
       "\t TEMPERATURE &  1731.0916 &  30.42383 &  56.899190 & 0.000000e+00\\\\\n",
       "\t RAINFALL    & -2921.1333 & 185.37232 & -15.758196 & 5.677424e-55\\\\\n",
       "\t SNOWFALL    &  -355.1660 & 131.90767 &  -2.692535 & 7.108567e-03\\\\\n",
       "\t WIND\\_SPEED  &   632.5302 &  44.96767 &  14.066334 & 2.563617e-44\\\\\n",
       "\\end{tabular}\n"
      ],
      "text/markdown": [
       "\n",
       "A tibble: 5 × 5\n",
       "\n",
       "| term &lt;chr&gt; | estimate &lt;dbl&gt; | std.error &lt;dbl&gt; | statistic &lt;dbl&gt; | p.value &lt;dbl&gt; |\n",
       "|---|---|---|---|---|\n",
       "| (Intercept) |  -325.6222 |  20.96528 | -15.531496 | 1.764864e-53 |\n",
       "| TEMPERATURE |  1731.0916 |  30.42383 |  56.899190 | 0.000000e+00 |\n",
       "| RAINFALL    | -2921.1333 | 185.37232 | -15.758196 | 5.677424e-55 |\n",
       "| SNOWFALL    |  -355.1660 | 131.90767 |  -2.692535 | 7.108567e-03 |\n",
       "| WIND_SPEED  |   632.5302 |  44.96767 |  14.066334 | 2.563617e-44 |\n",
       "\n"
      ],
      "text/plain": [
       "  term        estimate   std.error statistic  p.value     \n",
       "1 (Intercept)  -325.6222  20.96528 -15.531496 1.764864e-53\n",
       "2 TEMPERATURE  1731.0916  30.42383  56.899190 0.000000e+00\n",
       "3 RAINFALL    -2921.1333 185.37232 -15.758196 5.677424e-55\n",
       "4 SNOWFALL     -355.1660 131.90767  -2.692535 7.108567e-03\n",
       "5 WIND_SPEED    632.5302  44.96767  14.066334 2.563617e-44"
      ]
     },
     "metadata": {},
     "output_type": "display_data"
    },
    {
     "data": {
      "text/html": [
       "1.05708245089682e-12"
      ],
      "text/latex": [
       "1.05708245089682e-12"
      ],
      "text/markdown": [
       "1.05708245089682e-12"
      ],
      "text/plain": [
       "[1] 1.057082e-12"
      ]
     },
     "metadata": {},
     "output_type": "display_data"
    },
    {
     "data": {
      "text/html": [
       "<table class=\"dataframe\">\n",
       "<caption>A tibble: 1 × 3</caption>\n",
       "<thead>\n",
       "\t<tr><th scope=col>.metric</th><th scope=col>.estimator</th><th scope=col>.estimate</th></tr>\n",
       "\t<tr><th scope=col>&lt;chr&gt;</th><th scope=col>&lt;chr&gt;</th><th scope=col>&lt;dbl&gt;</th></tr>\n",
       "</thead>\n",
       "<tbody>\n",
       "\t<tr><td>rsq</td><td>standard</td><td>0.3598656</td></tr>\n",
       "</tbody>\n",
       "</table>\n"
      ],
      "text/latex": [
       "A tibble: 1 × 3\n",
       "\\begin{tabular}{lll}\n",
       " .metric & .estimator & .estimate\\\\\n",
       " <chr> & <chr> & <dbl>\\\\\n",
       "\\hline\n",
       "\t rsq & standard & 0.3598656\\\\\n",
       "\\end{tabular}\n"
      ],
      "text/markdown": [
       "\n",
       "A tibble: 1 × 3\n",
       "\n",
       "| .metric &lt;chr&gt; | .estimator &lt;chr&gt; | .estimate &lt;dbl&gt; |\n",
       "|---|---|---|\n",
       "| rsq | standard | 0.3598656 |\n",
       "\n"
      ],
      "text/plain": [
       "  .metric .estimator .estimate\n",
       "1 rsq     standard   0.3598656"
      ]
     },
     "metadata": {},
     "output_type": "display_data"
    },
    {
     "data": {
      "text/html": [
       "11.9912658733719"
      ],
      "text/latex": [
       "11.9912658733719"
      ],
      "text/markdown": [
       "11.9912658733719"
      ],
      "text/plain": [
       "[1] 11.99127"
      ]
     },
     "metadata": {},
     "output_type": "display_data"
    },
    {
     "data": {
      "text/html": [
       "<table class=\"dataframe\">\n",
       "<caption>A tibble: 1 × 3</caption>\n",
       "<thead>\n",
       "\t<tr><th scope=col>.metric</th><th scope=col>.estimator</th><th scope=col>.estimate</th></tr>\n",
       "\t<tr><th scope=col>&lt;chr&gt;</th><th scope=col>&lt;chr&gt;</th><th scope=col>&lt;dbl&gt;</th></tr>\n",
       "</thead>\n",
       "<tbody>\n",
       "\t<tr><td>rsq</td><td>standard</td><td>0.3743496</td></tr>\n",
       "</tbody>\n",
       "</table>\n"
      ],
      "text/latex": [
       "A tibble: 1 × 3\n",
       "\\begin{tabular}{lll}\n",
       " .metric & .estimator & .estimate\\\\\n",
       " <chr> & <chr> & <dbl>\\\\\n",
       "\\hline\n",
       "\t rsq & standard & 0.3743496\\\\\n",
       "\\end{tabular}\n"
      ],
      "text/markdown": [
       "\n",
       "A tibble: 1 × 3\n",
       "\n",
       "| .metric &lt;chr&gt; | .estimator &lt;chr&gt; | .estimate &lt;dbl&gt; |\n",
       "|---|---|---|\n",
       "| rsq | standard | 0.3743496 |\n",
       "\n"
      ],
      "text/plain": [
       "  .metric .estimator .estimate\n",
       "1 rsq     standard   0.3743496"
      ]
     },
     "metadata": {},
     "output_type": "display_data"
    }
   ],
   "source": [
    "#multi-reg model\n",
    "train_fit6 <- lm_spec %>%\n",
    "    fit(RENTED_BIKE_COUNT ~ TEMPERATURE+RAINFALL+SNOWFALL+WIND_SPEED,\n",
    "        data = train_data)\n",
    "\n",
    "train_results6 <- train_fit6 %>%\n",
    "    predict(new_data = train_data) %>%\n",
    "    mutate(truth = train_data$RENTED_BIKE_COUNT)\n",
    "\n",
    "test_results6 <- train_fit6 %>%\n",
    "    predict(new_data = test_data) %>%\n",
    "    mutate(truth = test_data$RENTED_BIKE_COUNT)\n",
    "\n",
    "train_fit6_coefs <- tidy(train_fit6)\n",
    "train_fit6_coefs\n",
    "rmse_train6 <- sqrt(mean(train_results6$.pred - train_results6$truth)^2)\n",
    "rsq_train6 <- rsq(train_results6, truth = truth, estimate = .pred)\n",
    "rmse_train6\n",
    "rsq_train6\n",
    "\n",
    "rmse_test6 <- sqrt(mean(test_results6$.pred - test_results6$truth)^2)\n",
    "rsq_test6 <- rsq(test_results6, truth = truth, estimate = .pred)\n",
    "rmse_test6\n",
    "rsq_test6\n"
   ]
  },
  {
   "cell_type": "code",
   "execution_count": null,
   "id": "ab89d6be-c94f-485b-92bb-8d43a923a239",
   "metadata": {},
   "outputs": [],
   "source": [
    "# Report the best performed model in terms of rmse and rsq\n"
   ]
  },
  {
   "cell_type": "markdown",
   "id": "5acbb1a6-d333-442a-a05e-e71633788bfc",
   "metadata": {},
   "source": [
    "Here are the performance requirements for your best model:\n",
    "- The RMSE should be less than 330 (rougly 10% of the max value in test dataset)\n",
    "- R-squared should be greater than 0.72\n"
   ]
  },
  {
   "cell_type": "markdown",
   "id": "4963897b-bb12-4c1b-b08e-6ed626e6a391",
   "metadata": {},
   "source": [
    "_TODO:_ Visualize the saved RMSE and R-squared values using a grouped barchart\n"
   ]
  },
  {
   "cell_type": "code",
   "execution_count": 23,
   "id": "c6fa68f8-f663-49a6-ad44-377bc82cfc21",
   "metadata": {},
   "outputs": [
    {
     "name": "stdout",
     "output_type": "stream",
     "text": [
      "\u001b[90m# A tibble: 12 × 3\u001b[39m\n",
      "   model       metric    value\n",
      "   \u001b[3m\u001b[90m<chr>\u001b[39m\u001b[23m       \u001b[3m\u001b[90m<chr>\u001b[39m\u001b[23m     \u001b[3m\u001b[90m<dbl>\u001b[39m\u001b[23m\n",
      "\u001b[90m 1\u001b[39m reg_ridge   rsq    6.56\u001b[90me\u001b[39m\u001b[31m- 1\u001b[39m\n",
      "\u001b[90m 2\u001b[39m reg_ridge   rmse   3.79\u001b[90me\u001b[39m+ 2\n",
      "\u001b[90m 3\u001b[39m reg_lasso   rsq    6.55\u001b[90me\u001b[39m\u001b[31m- 1\u001b[39m\n",
      "\u001b[90m 4\u001b[39m reg_lasso   rmse   3.78\u001b[90me\u001b[39m+ 2\n",
      "\u001b[90m 5\u001b[39m reg_elastic rsq    6.56\u001b[90me\u001b[39m\u001b[31m- 1\u001b[39m\n",
      "\u001b[90m 6\u001b[39m reg_elastic rmse   3.78\u001b[90me\u001b[39m+ 2\n",
      "\u001b[90m 7\u001b[39m poly        rsq    3.58\u001b[90me\u001b[39m\u001b[31m- 1\u001b[39m\n",
      "\u001b[90m 8\u001b[39m poly        rmse   1.08\u001b[90me\u001b[39m\u001b[31m-12\u001b[39m\n",
      "\u001b[90m 9\u001b[39m multi_lm1   rsq    3.41\u001b[90me\u001b[39m\u001b[31m- 1\u001b[39m\n",
      "\u001b[90m10\u001b[39m multi_lm1   rmse   2.11\u001b[90me\u001b[39m\u001b[31m-12\u001b[39m\n",
      "\u001b[90m11\u001b[39m multi_lm2   rsq    3.60\u001b[90me\u001b[39m\u001b[31m- 1\u001b[39m\n",
      "\u001b[90m12\u001b[39m multi_lm2   rmse   1.06\u001b[90me\u001b[39m\u001b[31m-12\u001b[39m\n"
     ]
    },
    {
     "data": {
      "image/png": "[encoded data removed]",
      "text/plain": [
       "plot without title"
      ]
     },
     "metadata": {
      "image/png": {
       "height": 420,
       "width": 420
      }
     },
     "output_type": "display_data"
    }
   ],
   "source": [
    "# HINT: Use ggplot() + geom_bar()\n",
    "model <- c (\"reg_ridge\", \"reg_lasso\", \"reg_elastic\",\"poly\",\"multi_lm1\",\"multi_lm2\")\n",
    "rsq <- c(rsq_train1$mean, rsq_train2$mean, rsq_train5$mean, rsq_train3$.estimate, rsq_train4$.estimate,rsq_train6$.estimate)\n",
    "rmse <- c(rmse_train1$mean, rmse_train2$mean, rmse_train5$mean, rmse_train3, rmse_train4, rmse_train6)\n",
    "traindata_cm <- data.frame(model, rsq, rmse)\n",
    "# Reshape data to long format\n",
    "traindata_cm_long <- traindata_cm %>%\n",
    "    pivot_longer(cols = c(rsq, rmse), names_to = \"metric\", values_to = \"value\")\n",
    "\n",
    "# Print the reshaped data\n",
    "print(traindata_cm_long)\n",
    "\n",
    "# Plot the grouped bar chart\n",
    "ggplot(traindata_cm_long, aes(x = model, y = value, fill = metric)) + \n",
    "    geom_bar(stat = \"identity\", position = \"dodge\") +\n",
    "    labs(x = \"Model\", y = \"Value\", fill = \"Metric\", title = \"Comparison of RMSE and R-squared Values Across Models\") +\n",
    "    theme_minimal() +\n",
    "    theme(axis.text.x = element_text(angle = 45, hjust = 1))\n",
    "\n"
   ]
  },
  {
   "cell_type": "markdown",
   "id": "5863203d-bfed-4145-8de2-da1cb9550e0d",
   "metadata": {},
   "source": [
    "_TODO:_ Create a Q-Q plot by plotting the distribution difference between the predictions generated by your best model and the true values on the test dataset.\n"
   ]
  },
  {
   "cell_type": "code",
   "execution_count": 78,
   "id": "80a40193-c3c5-44f0-a214-94ddf9cfcf50",
   "metadata": {},
   "outputs": [
    {
     "data": {
      "image/png": "[encoded data removed]",
      "text/plain": [
       "plot without title"
      ]
     },
     "metadata": {
      "image/png": {
       "height": 420,
       "width": 420
      }
     },
     "output_type": "display_data"
    },
    {
     "data": {
      "image/png": "[encoded data removed]",
      "text/plain": [
       "plot without title"
      ]
     },
     "metadata": {
      "image/png": {
       "height": 420,
       "width": 420
      }
     },
     "output_type": "display_data"
    },
    {
     "data": {
      "image/png": "[encoded data removed]",
      "text/plain": [
       "plot without title"
      ]
     },
     "metadata": {
      "image/png": {
       "height": 420,
       "width": 420
      }
     },
     "output_type": "display_data"
    }
   ],
   "source": [
    "# HINT: Use ggplot() +\n",
    "    # stat_qq(aes(sample=truth), color='green') +\n",
    "    # stat_qq(aes(sample=prediction), color='red')\n",
    "\n",
    "#Polynomial Model\n",
    "ggplot(test_results3)+\n",
    "    stat_qq(aes(sample = truth), color = 'green')+\n",
    "    stat_qq(aes(sample = .pred), color = 'red') + \n",
    "    labs(title = \"Polynomial Model\")\n",
    "\n",
    "\n",
    "#Multi-linear Model\n",
    "ggplot(test_results4)+\n",
    "    stat_qq(aes(sample = truth), color = 'green')+\n",
    "    stat_qq(aes(sample = .pred), color = 'red')+\n",
    "    labs(title= \"TEMPERATURE+RAINFALL+SNOWFALLpreidctor\")\n",
    "\n",
    "#Multi-linear Model\n",
    "ggplot(test_results6)+\n",
    "    stat_qq(aes(sample = truth), color = 'green')+\n",
    "    stat_qq(aes(sample = .pred), color = 'red')+\n",
    "    labs(title= \"TEMPERATURE+RAINFALL+SNOWFALL+WIND_SPEED preidctor\")\n",
    "\n"
   ]
  },
  {
   "cell_type": "markdown",
   "id": "e25e4b3b-06ca-4741-be48-c1ed84f41576",
   "metadata": {},
   "source": [
    "One example of such Q-Q plot may look like this:\n"
   ]
  },
  {
   "cell_type": "markdown",
   "id": "9fbe397e-22ce-4119-ad3d-442cd8947a3f",
   "metadata": {},
   "source": [
    "<a href=\"https://cognitiveclass.ai/\">\n",
    "    <img src=\"https://cf-courses-data.s3.us.cloud-object-storage.appdomain.cloud/IBMDeveloperSkillsNetwork-RP0321EN-SkillsNetwork/labs/module_4/images/example_qq_plot.png\" width=\"600\" align=\"center\">\n",
    "</a>\n"
   ]
  },
  {
   "cell_type": "markdown",
   "id": "43eac916-db8d-4d87-b82e-2a6eb0d6da4a",
   "metadata": {},
   "source": [
    "# More model improvment methods beyond this course\n"
   ]
  },
  {
   "cell_type": "markdown",
   "id": "1ba0a6b6-cae8-4cb0-a10b-b866a56a269f",
   "metadata": {},
   "source": [
    "In addition to the methods mentioned in this lab and previous data analysis courses, you could also explore to try the following methods yourself to see if they could improve model performance:\n",
    " - Remove potential redundant variables. If two variables have extremly high correlated, it is possible that they are redundant and could be removed from the model to improve the performance.\n",
    " - Remove some outliers. Linear regression models are very sensitive to outliers, you could try to remove some outliers to see if it would improve performance\n",
    " - Apply logarithm transformation. In case variable distributions are not normal distribution such as log-normal distribution, you could apply logaritm transformation on the variable to make them more look like normal distribution. In addition, logarithm transformation helps capture the non-linear relationships.\n",
    " \n",
    "If you have time, you could research and try more methods by searching related research papers/articles, discussion forums, etc. If you know how to use other machine learning models with `Tidymodels` such as Neural Networks, Tree models, or Boosting models, you can also try and compare them with the linear regression models.\n"
   ]
  },
  {
   "cell_type": "markdown",
   "id": "54f53313-91a5-4e98-8951-66701db7bdbf",
   "metadata": {},
   "source": [
    "# Next Steps:\n"
   ]
  },
  {
   "cell_type": "markdown",
   "id": "b59a75d7-3be2-4b81-b52d-bc725bb557f7",
   "metadata": {},
   "source": [
    "Great! You have improved your baseline model using polynomial terms, interaction terms, and regularizations, and have found your best model.\n",
    "\n",
    "Now it's time to build an interactive dashboard to provide more interactive user-interactions.\n"
   ]
  },
  {
   "cell_type": "markdown",
   "id": "ea54350b-2cb5-4f20-b331-151534e46834",
   "metadata": {},
   "source": [
    "## Authors\n",
    "\n",
    "<a href=\"https://www.linkedin.com/in/yan-luo-96288783/\" target=\"_blank\">Yan Luo</a>\n"
   ]
  },
  {
   "cell_type": "markdown",
   "id": "c86b6dfe-eaf9-4ef9-a7e3-214321dade2a",
   "metadata": {},
   "source": [
    "### Other Contributors\n",
    "\n",
    "Jeff Grossman\n"
   ]
  },
  {
   "cell_type": "markdown",
   "id": "da3efc27-dab4-40d2-8bf6-091f53f3c1ef",
   "metadata": {},
   "source": [
    "## Change Log\n",
    "\n",
    "| Date (YYYY-MM-DD) | Version | Changed By | Change Description           |\n",
    "| ----------------- | ------- | ---------- | ---------------------------- |\n",
    "| 2021-04-08        | 1.0     | Yan        | Initial version created      |\n",
    "|                   |         |            |                              |\n",
    "|                   |         |            |                              |\n",
    "\n",
    "## <h3 align=\"center\"> © IBM Corporation 2021. All rights reserved. <h3/>\n"
   ]
  }
 ],
 "metadata": {
  "kernelspec": {
   "display_name": "R",
   "language": "R",
   "name": "ir"
  },
  "language_info": {
   "codemirror_mode": "r",
   "file_extension": ".r",
   "mimetype": "text/x-r-source",
   "name": "R",
   "pygments_lexer": "r",
   "version": "4.4.1"
  }
 },
 "nbformat": 4,
 "nbformat_minor": 4
}
